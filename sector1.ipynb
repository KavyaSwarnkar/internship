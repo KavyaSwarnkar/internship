{
  "nbformat": 4,
  "nbformat_minor": 0,
  "metadata": {
    "colab": {
      "provenance": []
    },
    "kernelspec": {
      "name": "python3",
      "display_name": "Python 3"
    },
    "language_info": {
      "name": "python"
    }
  },
  "cells": [
    {
      "cell_type": "code",
      "execution_count": 234,
      "metadata": {
        "id": "vxNjP86FV9_N"
      },
      "outputs": [],
      "source": [
        "import pandas as pd\n",
        "import numpy as np\n",
        "import matplotlib.pyplot as plt\n",
        "import seaborn as sns\n",
        "import plotly.express as px ## World Map"
      ]
    },
    {
      "cell_type": "code",
      "source": [
        "df=pd.read_csv(\"sector1.csv\")\n",
        "df.head()"
      ],
      "metadata": {
        "colab": {
          "base_uri": "https://localhost:8080/",
          "height": 206
        },
        "id": "uXM32LzgW-6h",
        "outputId": "1914c1f2-28d0-4b31-ddef-ace49496fd5d"
      },
      "execution_count": 235,
      "outputs": [
        {
          "output_type": "execute_result",
          "data": {
            "text/plain": [
              "         date  population\n",
              "0  14-01-2022        49.0\n",
              "1  01-02-2022        51.0\n",
              "2  15-04-2022        57.0\n",
              "3  19-05-2022        55.0\n",
              "4  27-06-2022        53.0"
            ],
            "text/html": [
              "\n",
              "  <div id=\"df-2af73e59-be5b-4836-a3ef-62f25ad28d1c\">\n",
              "    <div class=\"colab-df-container\">\n",
              "      <div>\n",
              "<style scoped>\n",
              "    .dataframe tbody tr th:only-of-type {\n",
              "        vertical-align: middle;\n",
              "    }\n",
              "\n",
              "    .dataframe tbody tr th {\n",
              "        vertical-align: top;\n",
              "    }\n",
              "\n",
              "    .dataframe thead th {\n",
              "        text-align: right;\n",
              "    }\n",
              "</style>\n",
              "<table border=\"1\" class=\"dataframe\">\n",
              "  <thead>\n",
              "    <tr style=\"text-align: right;\">\n",
              "      <th></th>\n",
              "      <th>date</th>\n",
              "      <th>population</th>\n",
              "    </tr>\n",
              "  </thead>\n",
              "  <tbody>\n",
              "    <tr>\n",
              "      <th>0</th>\n",
              "      <td>14-01-2022</td>\n",
              "      <td>49.0</td>\n",
              "    </tr>\n",
              "    <tr>\n",
              "      <th>1</th>\n",
              "      <td>01-02-2022</td>\n",
              "      <td>51.0</td>\n",
              "    </tr>\n",
              "    <tr>\n",
              "      <th>2</th>\n",
              "      <td>15-04-2022</td>\n",
              "      <td>57.0</td>\n",
              "    </tr>\n",
              "    <tr>\n",
              "      <th>3</th>\n",
              "      <td>19-05-2022</td>\n",
              "      <td>55.0</td>\n",
              "    </tr>\n",
              "    <tr>\n",
              "      <th>4</th>\n",
              "      <td>27-06-2022</td>\n",
              "      <td>53.0</td>\n",
              "    </tr>\n",
              "  </tbody>\n",
              "</table>\n",
              "</div>\n",
              "      <button class=\"colab-df-convert\" onclick=\"convertToInteractive('df-2af73e59-be5b-4836-a3ef-62f25ad28d1c')\"\n",
              "              title=\"Convert this dataframe to an interactive table.\"\n",
              "              style=\"display:none;\">\n",
              "        \n",
              "  <svg xmlns=\"http://www.w3.org/2000/svg\" height=\"24px\"viewBox=\"0 0 24 24\"\n",
              "       width=\"24px\">\n",
              "    <path d=\"M0 0h24v24H0V0z\" fill=\"none\"/>\n",
              "    <path d=\"M18.56 5.44l.94 2.06.94-2.06 2.06-.94-2.06-.94-.94-2.06-.94 2.06-2.06.94zm-11 1L8.5 8.5l.94-2.06 2.06-.94-2.06-.94L8.5 2.5l-.94 2.06-2.06.94zm10 10l.94 2.06.94-2.06 2.06-.94-2.06-.94-.94-2.06-.94 2.06-2.06.94z\"/><path d=\"M17.41 7.96l-1.37-1.37c-.4-.4-.92-.59-1.43-.59-.52 0-1.04.2-1.43.59L10.3 9.45l-7.72 7.72c-.78.78-.78 2.05 0 2.83L4 21.41c.39.39.9.59 1.41.59.51 0 1.02-.2 1.41-.59l7.78-7.78 2.81-2.81c.8-.78.8-2.07 0-2.86zM5.41 20L4 18.59l7.72-7.72 1.47 1.35L5.41 20z\"/>\n",
              "  </svg>\n",
              "      </button>\n",
              "      \n",
              "  <style>\n",
              "    .colab-df-container {\n",
              "      display:flex;\n",
              "      flex-wrap:wrap;\n",
              "      gap: 12px;\n",
              "    }\n",
              "\n",
              "    .colab-df-convert {\n",
              "      background-color: #E8F0FE;\n",
              "      border: none;\n",
              "      border-radius: 50%;\n",
              "      cursor: pointer;\n",
              "      display: none;\n",
              "      fill: #1967D2;\n",
              "      height: 32px;\n",
              "      padding: 0 0 0 0;\n",
              "      width: 32px;\n",
              "    }\n",
              "\n",
              "    .colab-df-convert:hover {\n",
              "      background-color: #E2EBFA;\n",
              "      box-shadow: 0px 1px 2px rgba(60, 64, 67, 0.3), 0px 1px 3px 1px rgba(60, 64, 67, 0.15);\n",
              "      fill: #174EA6;\n",
              "    }\n",
              "\n",
              "    [theme=dark] .colab-df-convert {\n",
              "      background-color: #3B4455;\n",
              "      fill: #D2E3FC;\n",
              "    }\n",
              "\n",
              "    [theme=dark] .colab-df-convert:hover {\n",
              "      background-color: #434B5C;\n",
              "      box-shadow: 0px 1px 3px 1px rgba(0, 0, 0, 0.15);\n",
              "      filter: drop-shadow(0px 1px 2px rgba(0, 0, 0, 0.3));\n",
              "      fill: #FFFFFF;\n",
              "    }\n",
              "  </style>\n",
              "\n",
              "      <script>\n",
              "        const buttonEl =\n",
              "          document.querySelector('#df-2af73e59-be5b-4836-a3ef-62f25ad28d1c button.colab-df-convert');\n",
              "        buttonEl.style.display =\n",
              "          google.colab.kernel.accessAllowed ? 'block' : 'none';\n",
              "\n",
              "        async function convertToInteractive(key) {\n",
              "          const element = document.querySelector('#df-2af73e59-be5b-4836-a3ef-62f25ad28d1c');\n",
              "          const dataTable =\n",
              "            await google.colab.kernel.invokeFunction('convertToInteractive',\n",
              "                                                     [key], {});\n",
              "          if (!dataTable) return;\n",
              "\n",
              "          const docLinkHtml = 'Like what you see? Visit the ' +\n",
              "            '<a target=\"_blank\" href=https://colab.research.google.com/notebooks/data_table.ipynb>data table notebook</a>'\n",
              "            + ' to learn more about interactive tables.';\n",
              "          element.innerHTML = '';\n",
              "          dataTable['output_type'] = 'display_data';\n",
              "          await google.colab.output.renderOutput(dataTable, element);\n",
              "          const docLink = document.createElement('div');\n",
              "          docLink.innerHTML = docLinkHtml;\n",
              "          element.appendChild(docLink);\n",
              "        }\n",
              "      </script>\n",
              "    </div>\n",
              "  </div>\n",
              "  "
            ]
          },
          "metadata": {},
          "execution_count": 235
        }
      ]
    },
    {
      "cell_type": "code",
      "source": [
        "df.info()"
      ],
      "metadata": {
        "colab": {
          "base_uri": "https://localhost:8080/"
        },
        "id": "2s2csG0kXDTy",
        "outputId": "4f821218-98f3-49c1-afed-e0bcbc2ede76"
      },
      "execution_count": 236,
      "outputs": [
        {
          "output_type": "stream",
          "name": "stdout",
          "text": [
            "<class 'pandas.core.frame.DataFrame'>\n",
            "RangeIndex: 17 entries, 0 to 16\n",
            "Data columns (total 2 columns):\n",
            " #   Column      Non-Null Count  Dtype  \n",
            "---  ------      --------------  -----  \n",
            " 0   date        16 non-null     object \n",
            " 1   population  16 non-null     float64\n",
            "dtypes: float64(1), object(1)\n",
            "memory usage: 400.0+ bytes\n"
          ]
        }
      ]
    },
    {
      "cell_type": "code",
      "source": [
        "df.isnull().sum()"
      ],
      "metadata": {
        "colab": {
          "base_uri": "https://localhost:8080/"
        },
        "id": "5jwyIyy-XP2G",
        "outputId": "b5f1521f-a3c5-447a-f767-593a9e9865a7"
      },
      "execution_count": 237,
      "outputs": [
        {
          "output_type": "execute_result",
          "data": {
            "text/plain": [
              "date          1\n",
              "population    1\n",
              "dtype: int64"
            ]
          },
          "metadata": {},
          "execution_count": 237
        }
      ]
    },
    {
      "cell_type": "code",
      "source": [
        "df[\"date\"]= pd.to_datetime(df[\"date\"])"
      ],
      "metadata": {
        "colab": {
          "base_uri": "https://localhost:8080/"
        },
        "id": "fF-EMwKoXTAl",
        "outputId": "27cb5f0b-7f9e-435f-d4d8-714c4ac6cf29"
      },
      "execution_count": 238,
      "outputs": [
        {
          "output_type": "stream",
          "name": "stderr",
          "text": [
            "<ipython-input-238-082167ba8dcc>:1: UserWarning: Parsing dates in DD/MM/YYYY format when dayfirst=False (the default) was specified. This may lead to inconsistently parsed dates! Specify a format to ensure consistent parsing.\n",
            "  df[\"date\"]= pd.to_datetime(df[\"date\"])\n"
          ]
        }
      ]
    },
    {
      "cell_type": "code",
      "source": [
        " !pip install prophet"
      ],
      "metadata": {
        "colab": {
          "base_uri": "https://localhost:8080/"
        },
        "id": "31WHiRxDXd7z",
        "outputId": "81bed560-05a4-4f62-a640-5199f514ef8b"
      },
      "execution_count": 239,
      "outputs": [
        {
          "output_type": "stream",
          "name": "stdout",
          "text": [
            "Looking in indexes: https://pypi.org/simple, https://us-python.pkg.dev/colab-wheels/public/simple/\n",
            "Requirement already satisfied: prophet in /usr/local/lib/python3.9/dist-packages (1.1.2)\n",
            "Requirement already satisfied: holidays>=0.14.2 in /usr/local/lib/python3.9/dist-packages (from prophet) (0.22)\n",
            "Requirement already satisfied: matplotlib>=2.0.0 in /usr/local/lib/python3.9/dist-packages (from prophet) (3.7.1)\n",
            "Requirement already satisfied: convertdate>=2.1.2 in /usr/local/lib/python3.9/dist-packages (from prophet) (2.4.0)\n",
            "Requirement already satisfied: numpy>=1.15.4 in /usr/local/lib/python3.9/dist-packages (from prophet) (1.22.4)\n",
            "Requirement already satisfied: LunarCalendar>=0.0.9 in /usr/local/lib/python3.9/dist-packages (from prophet) (0.0.9)\n",
            "Requirement already satisfied: python-dateutil>=2.8.0 in /usr/local/lib/python3.9/dist-packages (from prophet) (2.8.2)\n",
            "Requirement already satisfied: cmdstanpy>=1.0.4 in /usr/local/lib/python3.9/dist-packages (from prophet) (1.1.0)\n",
            "Requirement already satisfied: pandas>=1.0.4 in /usr/local/lib/python3.9/dist-packages (from prophet) (1.5.3)\n",
            "Requirement already satisfied: tqdm>=4.36.1 in /usr/local/lib/python3.9/dist-packages (from prophet) (4.65.0)\n",
            "Requirement already satisfied: pymeeus<=1,>=0.3.13 in /usr/local/lib/python3.9/dist-packages (from convertdate>=2.1.2->prophet) (0.5.12)\n",
            "Requirement already satisfied: hijri-converter in /usr/local/lib/python3.9/dist-packages (from holidays>=0.14.2->prophet) (2.2.4)\n",
            "Requirement already satisfied: korean-lunar-calendar in /usr/local/lib/python3.9/dist-packages (from holidays>=0.14.2->prophet) (0.3.1)\n",
            "Requirement already satisfied: pytz in /usr/local/lib/python3.9/dist-packages (from LunarCalendar>=0.0.9->prophet) (2022.7.1)\n",
            "Requirement already satisfied: ephem>=3.7.5.3 in /usr/local/lib/python3.9/dist-packages (from LunarCalendar>=0.0.9->prophet) (4.1.4)\n",
            "Requirement already satisfied: pillow>=6.2.0 in /usr/local/lib/python3.9/dist-packages (from matplotlib>=2.0.0->prophet) (8.4.0)\n",
            "Requirement already satisfied: importlib-resources>=3.2.0 in /usr/local/lib/python3.9/dist-packages (from matplotlib>=2.0.0->prophet) (5.12.0)\n",
            "Requirement already satisfied: kiwisolver>=1.0.1 in /usr/local/lib/python3.9/dist-packages (from matplotlib>=2.0.0->prophet) (1.4.4)\n",
            "Requirement already satisfied: fonttools>=4.22.0 in /usr/local/lib/python3.9/dist-packages (from matplotlib>=2.0.0->prophet) (4.39.3)\n",
            "Requirement already satisfied: cycler>=0.10 in /usr/local/lib/python3.9/dist-packages (from matplotlib>=2.0.0->prophet) (0.11.0)\n",
            "Requirement already satisfied: packaging>=20.0 in /usr/local/lib/python3.9/dist-packages (from matplotlib>=2.0.0->prophet) (23.1)\n",
            "Requirement already satisfied: pyparsing>=2.3.1 in /usr/local/lib/python3.9/dist-packages (from matplotlib>=2.0.0->prophet) (3.0.9)\n",
            "Requirement already satisfied: contourpy>=1.0.1 in /usr/local/lib/python3.9/dist-packages (from matplotlib>=2.0.0->prophet) (1.0.7)\n",
            "Requirement already satisfied: six>=1.5 in /usr/local/lib/python3.9/dist-packages (from python-dateutil>=2.8.0->prophet) (1.16.0)\n",
            "Requirement already satisfied: zipp>=3.1.0 in /usr/local/lib/python3.9/dist-packages (from importlib-resources>=3.2.0->matplotlib>=2.0.0->prophet) (3.15.0)\n"
          ]
        }
      ]
    },
    {
      "cell_type": "code",
      "source": [
        " from prophet import Prophet"
      ],
      "metadata": {
        "id": "6bfO-j4nXkYz"
      },
      "execution_count": 242,
      "outputs": []
    },
    {
      "cell_type": "code",
      "source": [
        "population=df.groupby('date')['population'].sum().reset_index()"
      ],
      "metadata": {
        "id": "1UAH9U7TXoRK"
      },
      "execution_count": 243,
      "outputs": []
    },
    {
      "cell_type": "code",
      "source": [
        "population.rename(columns={\"date\":\"ds\",\"population\":\"y\"},inplace=True)"
      ],
      "metadata": {
        "id": "9uwuHY8FXrIV"
      },
      "execution_count": 244,
      "outputs": []
    },
    {
      "cell_type": "code",
      "source": [
        "model=Prophet(interval_width=0.95)"
      ],
      "metadata": {
        "id": "gl9IDqcEXuFm"
      },
      "execution_count": 245,
      "outputs": []
    },
    {
      "cell_type": "code",
      "source": [
        "model.fit(population)"
      ],
      "metadata": {
        "colab": {
          "base_uri": "https://localhost:8080/"
        },
        "id": "KD1ezWu6XxNv",
        "outputId": "86ad933b-fad8-4c49-ff12-6a25d5ad4260"
      },
      "execution_count": 246,
      "outputs": [
        {
          "output_type": "stream",
          "name": "stderr",
          "text": [
            "INFO:prophet:Disabling yearly seasonality. Run prophet with yearly_seasonality=True to override this.\n",
            "INFO:prophet:Disabling weekly seasonality. Run prophet with weekly_seasonality=True to override this.\n",
            "INFO:prophet:Disabling daily seasonality. Run prophet with daily_seasonality=True to override this.\n",
            "INFO:prophet:n_changepoints greater than number of observations. Using 11.\n",
            "DEBUG:cmdstanpy:input tempfile: /tmp/tmpqki2d_87/_1xlu8lm.json\n",
            "DEBUG:cmdstanpy:input tempfile: /tmp/tmpqki2d_87/g8bhmh86.json\n",
            "DEBUG:cmdstanpy:idx 0\n",
            "DEBUG:cmdstanpy:running CmdStan, num_threads: None\n",
            "DEBUG:cmdstanpy:CmdStan args: ['/usr/local/lib/python3.9/dist-packages/prophet/stan_model/prophet_model.bin', 'random', 'seed=77037', 'data', 'file=/tmp/tmpqki2d_87/_1xlu8lm.json', 'init=/tmp/tmpqki2d_87/g8bhmh86.json', 'output', 'file=/tmp/tmpqki2d_87/prophet_modelpqjf6qp5/prophet_model-20230421063940.csv', 'method=optimize', 'algorithm=newton', 'iter=10000']\n",
            "06:39:40 - cmdstanpy - INFO - Chain [1] start processing\n",
            "INFO:cmdstanpy:Chain [1] start processing\n",
            "06:39:40 - cmdstanpy - INFO - Chain [1] done processing\n",
            "INFO:cmdstanpy:Chain [1] done processing\n"
          ]
        },
        {
          "output_type": "execute_result",
          "data": {
            "text/plain": [
              "<prophet.forecaster.Prophet at 0x7f25eeae4b20>"
            ]
          },
          "metadata": {},
          "execution_count": 246
        }
      ]
    },
    {
      "cell_type": "code",
      "source": [
        "future_dates=model.make_future_dataframe(periods=30)"
      ],
      "metadata": {
        "id": "BsbWv5eaX0wi"
      },
      "execution_count": 247,
      "outputs": []
    },
    {
      "cell_type": "code",
      "source": [
        "forecast=model.predict(future_dates)"
      ],
      "metadata": {
        "id": "O8D1cTF2X8K6"
      },
      "execution_count": 248,
      "outputs": []
    },
    {
      "cell_type": "code",
      "source": [
        "model.plot(forecast)\n",
        "print(forecast)"
      ],
      "metadata": {
        "colab": {
          "base_uri": "https://localhost:8080/",
          "height": 1000
        },
        "id": "Rz7BlQ5QX-py",
        "outputId": "95173c92-14b3-4ae0-c92b-dc7b62a47520"
      },
      "execution_count": 249,
      "outputs": [
        {
          "output_type": "stream",
          "name": "stdout",
          "text": [
            "           ds      trend  yhat_lower  yhat_upper  trend_lower  trend_upper  \\\n",
            "0  2022-01-02  58.961261   31.679574   84.900394    58.961261    58.961261   \n",
            "1  2022-01-14  59.016111   31.141676   87.003963    59.016111    59.016111   \n",
            "2  2022-03-07  59.253795   32.791390   86.826981    59.253795    59.253795   \n",
            "3  2022-04-15  59.432058   33.620061   84.258655    59.432058    59.432058   \n",
            "4  2022-05-08  59.537187   33.739098   88.402542    59.537187    59.537187   \n",
            "5  2022-05-19  59.587467   33.639480   89.270918    59.587467    59.587467   \n",
            "6  2022-06-27  59.765730   33.066510   88.200026    59.765730    59.765730   \n",
            "7  2022-07-29  59.911997   32.912316   88.750920    59.911997    59.911997   \n",
            "8  2022-09-17  60.140539   34.196653   86.325284    60.140539    60.140539   \n",
            "9  2022-10-21  60.295948   33.438895   88.678039    60.295948    60.295948   \n",
            "10 2022-11-21  60.437644   33.023081   86.068171    60.437644    60.437644   \n",
            "11 2023-01-21  60.716465   33.274941   87.205198    60.716465    60.716465   \n",
            "12 2023-02-22  60.862732   33.798602   89.463150    60.862732    60.862732   \n",
            "13 2023-03-03  60.903870   33.910071   89.458346    60.903870    60.903870   \n",
            "14 2023-12-19  62.233986   34.888313   88.957135    62.233986    62.233986   \n",
            "15 2023-12-20  62.238557   36.720865   88.836199    62.238557    62.238557   \n",
            "16 2023-12-21  62.243128   37.049806   91.926749    62.243128    62.243128   \n",
            "17 2023-12-22  62.247699   35.553000   90.127689    62.247699    62.247699   \n",
            "18 2023-12-23  62.252269   36.039561   91.520900    62.252269    62.252269   \n",
            "19 2023-12-24  62.256840   36.820203   87.787767    62.256840    62.256840   \n",
            "20 2023-12-25  62.261411   36.370471   89.633168    62.261411    62.261411   \n",
            "21 2023-12-26  62.265982   35.539222   88.418125    62.265982    62.265982   \n",
            "22 2023-12-27  62.270553   33.414488   89.048111    62.270553    62.270553   \n",
            "23 2023-12-28  62.275124   34.581988   88.671690    62.275124    62.275124   \n",
            "24 2023-12-29  62.279694   35.997141   90.514006    62.279694    62.279694   \n",
            "25 2023-12-30  62.284265   35.260914   88.187369    62.284265    62.284265   \n",
            "26 2023-12-31  62.288836   34.305826   91.025973    62.288836    62.288836   \n",
            "27 2024-01-01  62.293407   34.718971   87.907624    62.293407    62.293407   \n",
            "28 2024-01-02  62.297978   34.724904   90.729631    62.297978    62.297978   \n",
            "29 2024-01-03  62.302549   33.390091   88.644740    62.302549    62.302549   \n",
            "30 2024-01-04  62.307119   33.282572   90.145936    62.307119    62.307120   \n",
            "31 2024-01-05  62.311690   34.680947   88.215915    62.311690    62.311690   \n",
            "32 2024-01-06  62.316261   33.452586   90.970763    62.316261    62.316261   \n",
            "33 2024-01-07  62.320832   36.509489   89.027129    62.320832    62.320832   \n",
            "34 2024-01-08  62.325403   34.034869   88.756651    62.325403    62.325403   \n",
            "35 2024-01-09  62.329974   35.533060   90.373257    62.329974    62.329974   \n",
            "36 2024-01-10  62.334545   32.372363   90.437014    62.334545    62.334545   \n",
            "37 2024-01-11  62.339115   35.808035   89.342900    62.339115    62.339115   \n",
            "38 2024-01-12  62.343686   34.406242   90.251219    62.343686    62.343686   \n",
            "39 2024-01-13  62.348257   35.140018   90.676975    62.348257    62.348257   \n",
            "40 2024-01-14  62.352828   35.178651   89.975351    62.352828    62.352828   \n",
            "41 2024-01-15  62.357399   37.119826   90.579425    62.357399    62.357399   \n",
            "42 2024-01-16  62.361970   35.396454   91.009372    62.361970    62.361970   \n",
            "43 2024-01-17  62.366540   36.223315   89.351978    62.366540    62.366541   \n",
            "44 2024-01-18  62.371111   34.608671   89.777548    62.371111    62.371111   \n",
            "\n",
            "    additive_terms  additive_terms_lower  additive_terms_upper  \\\n",
            "0              0.0                   0.0                   0.0   \n",
            "1              0.0                   0.0                   0.0   \n",
            "2              0.0                   0.0                   0.0   \n",
            "3              0.0                   0.0                   0.0   \n",
            "4              0.0                   0.0                   0.0   \n",
            "5              0.0                   0.0                   0.0   \n",
            "6              0.0                   0.0                   0.0   \n",
            "7              0.0                   0.0                   0.0   \n",
            "8              0.0                   0.0                   0.0   \n",
            "9              0.0                   0.0                   0.0   \n",
            "10             0.0                   0.0                   0.0   \n",
            "11             0.0                   0.0                   0.0   \n",
            "12             0.0                   0.0                   0.0   \n",
            "13             0.0                   0.0                   0.0   \n",
            "14             0.0                   0.0                   0.0   \n",
            "15             0.0                   0.0                   0.0   \n",
            "16             0.0                   0.0                   0.0   \n",
            "17             0.0                   0.0                   0.0   \n",
            "18             0.0                   0.0                   0.0   \n",
            "19             0.0                   0.0                   0.0   \n",
            "20             0.0                   0.0                   0.0   \n",
            "21             0.0                   0.0                   0.0   \n",
            "22             0.0                   0.0                   0.0   \n",
            "23             0.0                   0.0                   0.0   \n",
            "24             0.0                   0.0                   0.0   \n",
            "25             0.0                   0.0                   0.0   \n",
            "26             0.0                   0.0                   0.0   \n",
            "27             0.0                   0.0                   0.0   \n",
            "28             0.0                   0.0                   0.0   \n",
            "29             0.0                   0.0                   0.0   \n",
            "30             0.0                   0.0                   0.0   \n",
            "31             0.0                   0.0                   0.0   \n",
            "32             0.0                   0.0                   0.0   \n",
            "33             0.0                   0.0                   0.0   \n",
            "34             0.0                   0.0                   0.0   \n",
            "35             0.0                   0.0                   0.0   \n",
            "36             0.0                   0.0                   0.0   \n",
            "37             0.0                   0.0                   0.0   \n",
            "38             0.0                   0.0                   0.0   \n",
            "39             0.0                   0.0                   0.0   \n",
            "40             0.0                   0.0                   0.0   \n",
            "41             0.0                   0.0                   0.0   \n",
            "42             0.0                   0.0                   0.0   \n",
            "43             0.0                   0.0                   0.0   \n",
            "44             0.0                   0.0                   0.0   \n",
            "\n",
            "    multiplicative_terms  multiplicative_terms_lower  \\\n",
            "0                    0.0                         0.0   \n",
            "1                    0.0                         0.0   \n",
            "2                    0.0                         0.0   \n",
            "3                    0.0                         0.0   \n",
            "4                    0.0                         0.0   \n",
            "5                    0.0                         0.0   \n",
            "6                    0.0                         0.0   \n",
            "7                    0.0                         0.0   \n",
            "8                    0.0                         0.0   \n",
            "9                    0.0                         0.0   \n",
            "10                   0.0                         0.0   \n",
            "11                   0.0                         0.0   \n",
            "12                   0.0                         0.0   \n",
            "13                   0.0                         0.0   \n",
            "14                   0.0                         0.0   \n",
            "15                   0.0                         0.0   \n",
            "16                   0.0                         0.0   \n",
            "17                   0.0                         0.0   \n",
            "18                   0.0                         0.0   \n",
            "19                   0.0                         0.0   \n",
            "20                   0.0                         0.0   \n",
            "21                   0.0                         0.0   \n",
            "22                   0.0                         0.0   \n",
            "23                   0.0                         0.0   \n",
            "24                   0.0                         0.0   \n",
            "25                   0.0                         0.0   \n",
            "26                   0.0                         0.0   \n",
            "27                   0.0                         0.0   \n",
            "28                   0.0                         0.0   \n",
            "29                   0.0                         0.0   \n",
            "30                   0.0                         0.0   \n",
            "31                   0.0                         0.0   \n",
            "32                   0.0                         0.0   \n",
            "33                   0.0                         0.0   \n",
            "34                   0.0                         0.0   \n",
            "35                   0.0                         0.0   \n",
            "36                   0.0                         0.0   \n",
            "37                   0.0                         0.0   \n",
            "38                   0.0                         0.0   \n",
            "39                   0.0                         0.0   \n",
            "40                   0.0                         0.0   \n",
            "41                   0.0                         0.0   \n",
            "42                   0.0                         0.0   \n",
            "43                   0.0                         0.0   \n",
            "44                   0.0                         0.0   \n",
            "\n",
            "    multiplicative_terms_upper       yhat  \n",
            "0                          0.0  58.961261  \n",
            "1                          0.0  59.016111  \n",
            "2                          0.0  59.253795  \n",
            "3                          0.0  59.432058  \n",
            "4                          0.0  59.537187  \n",
            "5                          0.0  59.587467  \n",
            "6                          0.0  59.765730  \n",
            "7                          0.0  59.911997  \n",
            "8                          0.0  60.140539  \n",
            "9                          0.0  60.295948  \n",
            "10                         0.0  60.437644  \n",
            "11                         0.0  60.716465  \n",
            "12                         0.0  60.862732  \n",
            "13                         0.0  60.903870  \n",
            "14                         0.0  62.233986  \n",
            "15                         0.0  62.238557  \n",
            "16                         0.0  62.243128  \n",
            "17                         0.0  62.247699  \n",
            "18                         0.0  62.252269  \n",
            "19                         0.0  62.256840  \n",
            "20                         0.0  62.261411  \n",
            "21                         0.0  62.265982  \n",
            "22                         0.0  62.270553  \n",
            "23                         0.0  62.275124  \n",
            "24                         0.0  62.279694  \n",
            "25                         0.0  62.284265  \n",
            "26                         0.0  62.288836  \n",
            "27                         0.0  62.293407  \n",
            "28                         0.0  62.297978  \n",
            "29                         0.0  62.302549  \n",
            "30                         0.0  62.307119  \n",
            "31                         0.0  62.311690  \n",
            "32                         0.0  62.316261  \n",
            "33                         0.0  62.320832  \n",
            "34                         0.0  62.325403  \n",
            "35                         0.0  62.329974  \n",
            "36                         0.0  62.334545  \n",
            "37                         0.0  62.339115  \n",
            "38                         0.0  62.343686  \n",
            "39                         0.0  62.348257  \n",
            "40                         0.0  62.352828  \n",
            "41                         0.0  62.357399  \n",
            "42                         0.0  62.361970  \n",
            "43                         0.0  62.366540  \n",
            "44                         0.0  62.371111  \n"
          ]
        },
        {
          "output_type": "display_data",
          "data": {
            "text/plain": [
              "<Figure size 1000x600 with 1 Axes>"
            ],
            "image/png": "[encoded data removed]"
          },
          "metadata": {}
        }
      ]
    },
    {
      "cell_type": "code",
      "source": [
        "component=model.plot_components(forecast)"
      ],
      "metadata": {
        "colab": {
          "base_uri": "https://localhost:8080/",
          "height": 307
        },
        "id": "yqBCJ_F0YB2s",
        "outputId": "b3c268c2-e0b3-453d-d854-2c088a53f8f3"
      },
      "execution_count": 250,
      "outputs": [
        {
          "output_type": "display_data",
          "data": {
            "text/plain": [
              "<Figure size 900x300 with 1 Axes>"
            ],
            "image/png": "[encoded data removed]"
          },
          "metadata": {}
        }
      ]
    },
    {
      "cell_type": "code",
      "source": [
        " model1=Prophet(interval_width=0.95)"
      ],
      "metadata": {
        "id": "Io61ZqqIYHGP"
      },
      "execution_count": 251,
      "outputs": []
    },
    {
      "cell_type": "code",
      "source": [
        " model1.fit(population)"
      ],
      "metadata": {
        "colab": {
          "base_uri": "https://localhost:8080/"
        },
        "id": "rARjHmW3YLQ_",
        "outputId": "cc3c2765-3b07-42e4-d82f-d842a1a63379"
      },
      "execution_count": 252,
      "outputs": [
        {
          "output_type": "stream",
          "name": "stderr",
          "text": [
            "INFO:prophet:Disabling yearly seasonality. Run prophet with yearly_seasonality=True to override this.\n",
            "INFO:prophet:Disabling weekly seasonality. Run prophet with weekly_seasonality=True to override this.\n",
            "INFO:prophet:Disabling daily seasonality. Run prophet with daily_seasonality=True to override this.\n",
            "INFO:prophet:n_changepoints greater than number of observations. Using 11.\n",
            "DEBUG:cmdstanpy:input tempfile: /tmp/tmpqki2d_87/93caqkb7.json\n",
            "DEBUG:cmdstanpy:input tempfile: /tmp/tmpqki2d_87/eolod1y_.json\n",
            "DEBUG:cmdstanpy:idx 0\n",
            "DEBUG:cmdstanpy:running CmdStan, num_threads: None\n",
            "DEBUG:cmdstanpy:CmdStan args: ['/usr/local/lib/python3.9/dist-packages/prophet/stan_model/prophet_model.bin', 'random', 'seed=29298', 'data', 'file=/tmp/tmpqki2d_87/93caqkb7.json', 'init=/tmp/tmpqki2d_87/eolod1y_.json', 'output', 'file=/tmp/tmpqki2d_87/prophet_modeljm3dlchl/prophet_model-20230421063958.csv', 'method=optimize', 'algorithm=newton', 'iter=10000']\n",
            "06:39:58 - cmdstanpy - INFO - Chain [1] start processing\n",
            "INFO:cmdstanpy:Chain [1] start processing\n",
            "06:39:58 - cmdstanpy - INFO - Chain [1] done processing\n",
            "INFO:cmdstanpy:Chain [1] done processing\n"
          ]
        },
        {
          "output_type": "execute_result",
          "data": {
            "text/plain": [
              "<prophet.forecaster.Prophet at 0x7f25ef173070>"
            ]
          },
          "metadata": {},
          "execution_count": 252
        }
      ]
    },
    {
      "cell_type": "code",
      "source": [
        "future_dates=model1.make_future_dataframe(periods=10)"
      ],
      "metadata": {
        "id": "67_BflY9YPPb"
      },
      "execution_count": 253,
      "outputs": []
    },
    {
      "cell_type": "code",
      "source": [
        "forecasting=model.predict(future_dates)\n",
        "ploting=model.plot(forecasting)"
      ],
      "metadata": {
        "colab": {
          "base_uri": "https://localhost:8080/",
          "height": 607
        },
        "id": "v-fmEXsSYSJK",
        "outputId": "f0725e4b-923b-4f17-eb9b-82ce4979c513"
      },
      "execution_count": 254,
      "outputs": [
        {
          "output_type": "display_data",
          "data": {
            "text/plain": [
              "<Figure size 1000x600 with 1 Axes>"
            ],
            "image/png": "[encoded data removed]"
          },
          "metadata": {}
        }
      ]
    },
    {
      "cell_type": "code",
      "source": [
        "week=model1.plot_components(forecasting)\n",
        "print(forecasting)"
      ],
      "metadata": {
        "colab": {
          "base_uri": "https://localhost:8080/",
          "height": 1000
        },
        "id": "0s9s1BwYYVNB",
        "outputId": "7b809498-b247-48cc-cef5-e485494bc6d6"
      },
      "execution_count": 255,
      "outputs": [
        {
          "output_type": "stream",
          "name": "stdout",
          "text": [
            "           ds      trend  yhat_lower  yhat_upper  trend_lower  trend_upper  \\\n",
            "0  2022-01-02  58.961261   32.149862   86.494197    58.961261    58.961261   \n",
            "1  2022-01-14  59.016111   33.305773   88.114670    59.016111    59.016111   \n",
            "2  2022-03-07  59.253795   34.431587   86.751110    59.253795    59.253795   \n",
            "3  2022-04-15  59.432058   31.630932   87.355074    59.432058    59.432058   \n",
            "4  2022-05-08  59.537187   34.157121   86.862228    59.537187    59.537187   \n",
            "5  2022-05-19  59.587467   33.783827   88.218676    59.587467    59.587467   \n",
            "6  2022-06-27  59.765730   32.115663   87.051448    59.765730    59.765730   \n",
            "7  2022-07-29  59.911997   31.746719   86.706108    59.911997    59.911997   \n",
            "8  2022-09-17  60.140539   33.679855   86.743237    60.140539    60.140539   \n",
            "9  2022-10-21  60.295948   30.921973   86.835636    60.295948    60.295948   \n",
            "10 2022-11-21  60.437644   34.394026   89.238986    60.437644    60.437644   \n",
            "11 2023-01-21  60.716465   34.117683   88.444646    60.716465    60.716465   \n",
            "12 2023-02-22  60.862732   35.456365   88.054326    60.862732    60.862732   \n",
            "13 2023-03-03  60.903870   31.804438   88.186012    60.903870    60.903870   \n",
            "14 2023-12-19  62.233986   37.387966   89.082560    62.233986    62.233986   \n",
            "15 2023-12-20  62.238557   35.326078   88.095369    62.238557    62.238557   \n",
            "16 2023-12-21  62.243128   33.797442   90.050840    62.243128    62.243128   \n",
            "17 2023-12-22  62.247699   34.786916   88.595534    62.247699    62.247699   \n",
            "18 2023-12-23  62.252269   35.928399   90.616912    62.252269    62.252269   \n",
            "19 2023-12-24  62.256840   37.089848   89.713008    62.256840    62.256840   \n",
            "20 2023-12-25  62.261411   36.224425   89.189343    62.261411    62.261411   \n",
            "21 2023-12-26  62.265982   34.030114   87.924277    62.265982    62.265982   \n",
            "22 2023-12-27  62.270553   36.581998   90.906064    62.270553    62.270553   \n",
            "23 2023-12-28  62.275124   34.684793   90.271397    62.275124    62.275124   \n",
            "24 2023-12-29  62.279694   33.694890   89.387645    62.279694    62.279694   \n",
            "\n",
            "    additive_terms  additive_terms_lower  additive_terms_upper  \\\n",
            "0              0.0                   0.0                   0.0   \n",
            "1              0.0                   0.0                   0.0   \n",
            "2              0.0                   0.0                   0.0   \n",
            "3              0.0                   0.0                   0.0   \n",
            "4              0.0                   0.0                   0.0   \n",
            "5              0.0                   0.0                   0.0   \n",
            "6              0.0                   0.0                   0.0   \n",
            "7              0.0                   0.0                   0.0   \n",
            "8              0.0                   0.0                   0.0   \n",
            "9              0.0                   0.0                   0.0   \n",
            "10             0.0                   0.0                   0.0   \n",
            "11             0.0                   0.0                   0.0   \n",
            "12             0.0                   0.0                   0.0   \n",
            "13             0.0                   0.0                   0.0   \n",
            "14             0.0                   0.0                   0.0   \n",
            "15             0.0                   0.0                   0.0   \n",
            "16             0.0                   0.0                   0.0   \n",
            "17             0.0                   0.0                   0.0   \n",
            "18             0.0                   0.0                   0.0   \n",
            "19             0.0                   0.0                   0.0   \n",
            "20             0.0                   0.0                   0.0   \n",
            "21             0.0                   0.0                   0.0   \n",
            "22             0.0                   0.0                   0.0   \n",
            "23             0.0                   0.0                   0.0   \n",
            "24             0.0                   0.0                   0.0   \n",
            "\n",
            "    multiplicative_terms  multiplicative_terms_lower  \\\n",
            "0                    0.0                         0.0   \n",
            "1                    0.0                         0.0   \n",
            "2                    0.0                         0.0   \n",
            "3                    0.0                         0.0   \n",
            "4                    0.0                         0.0   \n",
            "5                    0.0                         0.0   \n",
            "6                    0.0                         0.0   \n",
            "7                    0.0                         0.0   \n",
            "8                    0.0                         0.0   \n",
            "9                    0.0                         0.0   \n",
            "10                   0.0                         0.0   \n",
            "11                   0.0                         0.0   \n",
            "12                   0.0                         0.0   \n",
            "13                   0.0                         0.0   \n",
            "14                   0.0                         0.0   \n",
            "15                   0.0                         0.0   \n",
            "16                   0.0                         0.0   \n",
            "17                   0.0                         0.0   \n",
            "18                   0.0                         0.0   \n",
            "19                   0.0                         0.0   \n",
            "20                   0.0                         0.0   \n",
            "21                   0.0                         0.0   \n",
            "22                   0.0                         0.0   \n",
            "23                   0.0                         0.0   \n",
            "24                   0.0                         0.0   \n",
            "\n",
            "    multiplicative_terms_upper       yhat  \n",
            "0                          0.0  58.961261  \n",
            "1                          0.0  59.016111  \n",
            "2                          0.0  59.253795  \n",
            "3                          0.0  59.432058  \n",
            "4                          0.0  59.537187  \n",
            "5                          0.0  59.587467  \n",
            "6                          0.0  59.765730  \n",
            "7                          0.0  59.911997  \n",
            "8                          0.0  60.140539  \n",
            "9                          0.0  60.295948  \n",
            "10                         0.0  60.437644  \n",
            "11                         0.0  60.716465  \n",
            "12                         0.0  60.862732  \n",
            "13                         0.0  60.903870  \n",
            "14                         0.0  62.233986  \n",
            "15                         0.0  62.238557  \n",
            "16                         0.0  62.243128  \n",
            "17                         0.0  62.247699  \n",
            "18                         0.0  62.252269  \n",
            "19                         0.0  62.256840  \n",
            "20                         0.0  62.261411  \n",
            "21                         0.0  62.265982  \n",
            "22                         0.0  62.270553  \n",
            "23                         0.0  62.275124  \n",
            "24                         0.0  62.279694  \n"
          ]
        },
        {
          "output_type": "display_data",
          "data": {
            "text/plain": [
              "<Figure size 900x300 with 1 Axes>"
            ],
            "image/png": "[encoded data removed]"
          },
          "metadata": {}
        }
      ]
    }
  ]
}