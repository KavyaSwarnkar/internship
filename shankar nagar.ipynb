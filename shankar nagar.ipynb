{
  "nbformat": 4,
  "nbformat_minor": 0,
  "metadata": {
    "colab": {
      "provenance": []
    },
    "kernelspec": {
      "name": "python3",
      "display_name": "Python 3"
    },
    "language_info": {
      "name": "python"
    }
  },
  "cells": [
    {
      "cell_type": "code",
      "execution_count": 273,
      "metadata": {
        "id": "vxNjP86FV9_N"
      },
      "outputs": [],
      "source": [
        "import pandas as pd\n",
        "import numpy as np\n",
        "import matplotlib.pyplot as plt\n",
        "import seaborn as sns\n",
        "import plotly.express as px ## World Map"
      ]
    },
    {
      "cell_type": "code",
      "source": [
        "df=pd.read_csv(\"shankar_nagar.csv\")\n",
        "df.head()"
      ],
      "metadata": {
        "colab": {
          "base_uri": "https://localhost:8080/",
          "height": 206
        },
        "id": "uXM32LzgW-6h",
        "outputId": "d7d0cb0c-07a1-4fd1-f8ec-7b3b8d8dcbcd"
      },
      "execution_count": 274,
      "outputs": [
        {
          "output_type": "execute_result",
          "data": {
            "text/plain": [
              "         date  population\n",
              "0  15-02-2022           9\n",
              "1  15-04-2022          11\n",
              "2  25-07-2022          15\n",
              "3  26-10-2022          16\n",
              "4  27-11-2022          13"
            ],
            "text/html": [
              "\n",
              "  <div id=\"df-e3c027c8-e2d5-4437-8dbb-428407164431\">\n",
              "    <div class=\"colab-df-container\">\n",
              "      <div>\n",
              "<style scoped>\n",
              "    .dataframe tbody tr th:only-of-type {\n",
              "        vertical-align: middle;\n",
              "    }\n",
              "\n",
              "    .dataframe tbody tr th {\n",
              "        vertical-align: top;\n",
              "    }\n",
              "\n",
              "    .dataframe thead th {\n",
              "        text-align: right;\n",
              "    }\n",
              "</style>\n",
              "<table border=\"1\" class=\"dataframe\">\n",
              "  <thead>\n",
              "    <tr style=\"text-align: right;\">\n",
              "      <th></th>\n",
              "      <th>date</th>\n",
              "      <th>population</th>\n",
              "    </tr>\n",
              "  </thead>\n",
              "  <tbody>\n",
              "    <tr>\n",
              "      <th>0</th>\n",
              "      <td>15-02-2022</td>\n",
              "      <td>9</td>\n",
              "    </tr>\n",
              "    <tr>\n",
              "      <th>1</th>\n",
              "      <td>15-04-2022</td>\n",
              "      <td>11</td>\n",
              "    </tr>\n",
              "    <tr>\n",
              "      <th>2</th>\n",
              "      <td>25-07-2022</td>\n",
              "      <td>15</td>\n",
              "    </tr>\n",
              "    <tr>\n",
              "      <th>3</th>\n",
              "      <td>26-10-2022</td>\n",
              "      <td>16</td>\n",
              "    </tr>\n",
              "    <tr>\n",
              "      <th>4</th>\n",
              "      <td>27-11-2022</td>\n",
              "      <td>13</td>\n",
              "    </tr>\n",
              "  </tbody>\n",
              "</table>\n",
              "</div>\n",
              "      <button class=\"colab-df-convert\" onclick=\"convertToInteractive('df-e3c027c8-e2d5-4437-8dbb-428407164431')\"\n",
              "              title=\"Convert this dataframe to an interactive table.\"\n",
              "              style=\"display:none;\">\n",
              "        \n",
              "  <svg xmlns=\"http://www.w3.org/2000/svg\" height=\"24px\"viewBox=\"0 0 24 24\"\n",
              "       width=\"24px\">\n",
              "    <path d=\"M0 0h24v24H0V0z\" fill=\"none\"/>\n",
              "    <path d=\"M18.56 5.44l.94 2.06.94-2.06 2.06-.94-2.06-.94-.94-2.06-.94 2.06-2.06.94zm-11 1L8.5 8.5l.94-2.06 2.06-.94-2.06-.94L8.5 2.5l-.94 2.06-2.06.94zm10 10l.94 2.06.94-2.06 2.06-.94-2.06-.94-.94-2.06-.94 2.06-2.06.94z\"/><path d=\"M17.41 7.96l-1.37-1.37c-.4-.4-.92-.59-1.43-.59-.52 0-1.04.2-1.43.59L10.3 9.45l-7.72 7.72c-.78.78-.78 2.05 0 2.83L4 21.41c.39.39.9.59 1.41.59.51 0 1.02-.2 1.41-.59l7.78-7.78 2.81-2.81c.8-.78.8-2.07 0-2.86zM5.41 20L4 18.59l7.72-7.72 1.47 1.35L5.41 20z\"/>\n",
              "  </svg>\n",
              "      </button>\n",
              "      \n",
              "  <style>\n",
              "    .colab-df-container {\n",
              "      display:flex;\n",
              "      flex-wrap:wrap;\n",
              "      gap: 12px;\n",
              "    }\n",
              "\n",
              "    .colab-df-convert {\n",
              "      background-color: #E8F0FE;\n",
              "      border: none;\n",
              "      border-radius: 50%;\n",
              "      cursor: pointer;\n",
              "      display: none;\n",
              "      fill: #1967D2;\n",
              "      height: 32px;\n",
              "      padding: 0 0 0 0;\n",
              "      width: 32px;\n",
              "    }\n",
              "\n",
              "    .colab-df-convert:hover {\n",
              "      background-color: #E2EBFA;\n",
              "      box-shadow: 0px 1px 2px rgba(60, 64, 67, 0.3), 0px 1px 3px 1px rgba(60, 64, 67, 0.15);\n",
              "      fill: #174EA6;\n",
              "    }\n",
              "\n",
              "    [theme=dark] .colab-df-convert {\n",
              "      background-color: #3B4455;\n",
              "      fill: #D2E3FC;\n",
              "    }\n",
              "\n",
              "    [theme=dark] .colab-df-convert:hover {\n",
              "      background-color: #434B5C;\n",
              "      box-shadow: 0px 1px 3px 1px rgba(0, 0, 0, 0.15);\n",
              "      filter: drop-shadow(0px 1px 2px rgba(0, 0, 0, 0.3));\n",
              "      fill: #FFFFFF;\n",
              "    }\n",
              "  </style>\n",
              "\n",
              "      <script>\n",
              "        const buttonEl =\n",
              "          document.querySelector('#df-e3c027c8-e2d5-4437-8dbb-428407164431 button.colab-df-convert');\n",
              "        buttonEl.style.display =\n",
              "          google.colab.kernel.accessAllowed ? 'block' : 'none';\n",
              "\n",
              "        async function convertToInteractive(key) {\n",
              "          const element = document.querySelector('#df-e3c027c8-e2d5-4437-8dbb-428407164431');\n",
              "          const dataTable =\n",
              "            await google.colab.kernel.invokeFunction('convertToInteractive',\n",
              "                                                     [key], {});\n",
              "          if (!dataTable) return;\n",
              "\n",
              "          const docLinkHtml = 'Like what you see? Visit the ' +\n",
              "            '<a target=\"_blank\" href=https://colab.research.google.com/notebooks/data_table.ipynb>data table notebook</a>'\n",
              "            + ' to learn more about interactive tables.';\n",
              "          element.innerHTML = '';\n",
              "          dataTable['output_type'] = 'display_data';\n",
              "          await google.colab.output.renderOutput(dataTable, element);\n",
              "          const docLink = document.createElement('div');\n",
              "          docLink.innerHTML = docLinkHtml;\n",
              "          element.appendChild(docLink);\n",
              "        }\n",
              "      </script>\n",
              "    </div>\n",
              "  </div>\n",
              "  "
            ]
          },
          "metadata": {},
          "execution_count": 274
        }
      ]
    },
    {
      "cell_type": "code",
      "source": [
        "df.info()"
      ],
      "metadata": {
        "colab": {
          "base_uri": "https://localhost:8080/",
          "height": 0
        },
        "id": "2s2csG0kXDTy",
        "outputId": "5da06423-7175-4974-b536-a0f5b234c482"
      },
      "execution_count": 275,
      "outputs": [
        {
          "output_type": "stream",
          "name": "stdout",
          "text": [
            "<class 'pandas.core.frame.DataFrame'>\n",
            "RangeIndex: 7 entries, 0 to 6\n",
            "Data columns (total 2 columns):\n",
            " #   Column      Non-Null Count  Dtype \n",
            "---  ------      --------------  ----- \n",
            " 0   date        7 non-null      object\n",
            " 1   population  7 non-null      int64 \n",
            "dtypes: int64(1), object(1)\n",
            "memory usage: 240.0+ bytes\n"
          ]
        }
      ]
    },
    {
      "cell_type": "code",
      "source": [
        "df.isnull().sum()"
      ],
      "metadata": {
        "colab": {
          "base_uri": "https://localhost:8080/",
          "height": 0
        },
        "id": "5jwyIyy-XP2G",
        "outputId": "069a7370-2225-4955-8255-0425652c9722"
      },
      "execution_count": 276,
      "outputs": [
        {
          "output_type": "execute_result",
          "data": {
            "text/plain": [
              "date          0\n",
              "population    0\n",
              "dtype: int64"
            ]
          },
          "metadata": {},
          "execution_count": 276
        }
      ]
    },
    {
      "cell_type": "code",
      "source": [
        "df[\"date\"]= pd.to_datetime(df[\"date\"])"
      ],
      "metadata": {
        "colab": {
          "base_uri": "https://localhost:8080/",
          "height": 0
        },
        "id": "fF-EMwKoXTAl",
        "outputId": "5d5f20ce-3e5d-44b4-d496-1e32b0888610"
      },
      "execution_count": 277,
      "outputs": [
        {
          "output_type": "stream",
          "name": "stderr",
          "text": [
            "<ipython-input-277-082167ba8dcc>:1: UserWarning: Parsing dates in DD/MM/YYYY format when dayfirst=False (the default) was specified. This may lead to inconsistently parsed dates! Specify a format to ensure consistent parsing.\n",
            "  df[\"date\"]= pd.to_datetime(df[\"date\"])\n"
          ]
        }
      ]
    },
    {
      "cell_type": "code",
      "source": [
        " !pip install prophet"
      ],
      "metadata": {
        "colab": {
          "base_uri": "https://localhost:8080/",
          "height": 0
        },
        "id": "31WHiRxDXd7z",
        "outputId": "0949526d-c5b5-4bb6-a1fa-c28ac8ad3567"
      },
      "execution_count": 278,
      "outputs": [
        {
          "output_type": "stream",
          "name": "stdout",
          "text": [
            "Looking in indexes: https://pypi.org/simple, https://us-python.pkg.dev/colab-wheels/public/simple/\n",
            "Requirement already satisfied: prophet in /usr/local/lib/python3.9/dist-packages (1.1.2)\n",
            "Requirement already satisfied: python-dateutil>=2.8.0 in /usr/local/lib/python3.9/dist-packages (from prophet) (2.8.2)\n",
            "Requirement already satisfied: holidays>=0.14.2 in /usr/local/lib/python3.9/dist-packages (from prophet) (0.22)\n",
            "Requirement already satisfied: LunarCalendar>=0.0.9 in /usr/local/lib/python3.9/dist-packages (from prophet) (0.0.9)\n",
            "Requirement already satisfied: pandas>=1.0.4 in /usr/local/lib/python3.9/dist-packages (from prophet) (1.5.3)\n",
            "Requirement already satisfied: cmdstanpy>=1.0.4 in /usr/local/lib/python3.9/dist-packages (from prophet) (1.1.0)\n",
            "Requirement already satisfied: numpy>=1.15.4 in /usr/local/lib/python3.9/dist-packages (from prophet) (1.22.4)\n",
            "Requirement already satisfied: convertdate>=2.1.2 in /usr/local/lib/python3.9/dist-packages (from prophet) (2.4.0)\n",
            "Requirement already satisfied: tqdm>=4.36.1 in /usr/local/lib/python3.9/dist-packages (from prophet) (4.65.0)\n",
            "Requirement already satisfied: matplotlib>=2.0.0 in /usr/local/lib/python3.9/dist-packages (from prophet) (3.7.1)\n",
            "Requirement already satisfied: pymeeus<=1,>=0.3.13 in /usr/local/lib/python3.9/dist-packages (from convertdate>=2.1.2->prophet) (0.5.12)\n",
            "Requirement already satisfied: korean-lunar-calendar in /usr/local/lib/python3.9/dist-packages (from holidays>=0.14.2->prophet) (0.3.1)\n",
            "Requirement already satisfied: hijri-converter in /usr/local/lib/python3.9/dist-packages (from holidays>=0.14.2->prophet) (2.2.4)\n",
            "Requirement already satisfied: pytz in /usr/local/lib/python3.9/dist-packages (from LunarCalendar>=0.0.9->prophet) (2022.7.1)\n",
            "Requirement already satisfied: ephem>=3.7.5.3 in /usr/local/lib/python3.9/dist-packages (from LunarCalendar>=0.0.9->prophet) (4.1.4)\n",
            "Requirement already satisfied: pyparsing>=2.3.1 in /usr/local/lib/python3.9/dist-packages (from matplotlib>=2.0.0->prophet) (3.0.9)\n",
            "Requirement already satisfied: contourpy>=1.0.1 in /usr/local/lib/python3.9/dist-packages (from matplotlib>=2.0.0->prophet) (1.0.7)\n",
            "Requirement already satisfied: cycler>=0.10 in /usr/local/lib/python3.9/dist-packages (from matplotlib>=2.0.0->prophet) (0.11.0)\n",
            "Requirement already satisfied: importlib-resources>=3.2.0 in /usr/local/lib/python3.9/dist-packages (from matplotlib>=2.0.0->prophet) (5.12.0)\n",
            "Requirement already satisfied: kiwisolver>=1.0.1 in /usr/local/lib/python3.9/dist-packages (from matplotlib>=2.0.0->prophet) (1.4.4)\n",
            "Requirement already satisfied: fonttools>=4.22.0 in /usr/local/lib/python3.9/dist-packages (from matplotlib>=2.0.0->prophet) (4.39.3)\n",
            "Requirement already satisfied: packaging>=20.0 in /usr/local/lib/python3.9/dist-packages (from matplotlib>=2.0.0->prophet) (23.1)\n",
            "Requirement already satisfied: pillow>=6.2.0 in /usr/local/lib/python3.9/dist-packages (from matplotlib>=2.0.0->prophet) (8.4.0)\n",
            "Requirement already satisfied: six>=1.5 in /usr/local/lib/python3.9/dist-packages (from python-dateutil>=2.8.0->prophet) (1.16.0)\n",
            "Requirement already satisfied: zipp>=3.1.0 in /usr/local/lib/python3.9/dist-packages (from importlib-resources>=3.2.0->matplotlib>=2.0.0->prophet) (3.15.0)\n"
          ]
        }
      ]
    },
    {
      "cell_type": "code",
      "source": [
        " from prophet import Prophet"
      ],
      "metadata": {
        "id": "6bfO-j4nXkYz"
      },
      "execution_count": 279,
      "outputs": []
    },
    {
      "cell_type": "code",
      "source": [
        "population=df.groupby('date')['population'].sum().reset_index()"
      ],
      "metadata": {
        "id": "1UAH9U7TXoRK"
      },
      "execution_count": 280,
      "outputs": []
    },
    {
      "cell_type": "code",
      "source": [
        "population.rename(columns={\"date\":\"ds\",\"population\":\"y\"},inplace=True)"
      ],
      "metadata": {
        "id": "9uwuHY8FXrIV"
      },
      "execution_count": 281,
      "outputs": []
    },
    {
      "cell_type": "code",
      "source": [
        "model=Prophet(interval_width=0.95)"
      ],
      "metadata": {
        "id": "gl9IDqcEXuFm"
      },
      "execution_count": 284,
      "outputs": []
    },
    {
      "cell_type": "code",
      "source": [
        "model.fit(population)"
      ],
      "metadata": {
        "colab": {
          "base_uri": "https://localhost:8080/",
          "height": 0
        },
        "id": "KD1ezWu6XxNv",
        "outputId": "9d97b03b-6bea-4c4b-b900-83af47743c92"
      },
      "execution_count": 285,
      "outputs": [
        {
          "output_type": "stream",
          "name": "stderr",
          "text": [
            "INFO:prophet:Disabling yearly seasonality. Run prophet with yearly_seasonality=True to override this.\n",
            "INFO:prophet:Disabling weekly seasonality. Run prophet with weekly_seasonality=True to override this.\n",
            "INFO:prophet:Disabling daily seasonality. Run prophet with daily_seasonality=True to override this.\n",
            "INFO:prophet:n_changepoints greater than number of observations. Using 4.\n",
            "DEBUG:cmdstanpy:input tempfile: /tmp/tmpqki2d_87/qfpkscxh.json\n",
            "DEBUG:cmdstanpy:input tempfile: /tmp/tmpqki2d_87/kbpldxm4.json\n",
            "DEBUG:cmdstanpy:idx 0\n",
            "DEBUG:cmdstanpy:running CmdStan, num_threads: None\n",
            "DEBUG:cmdstanpy:CmdStan args: ['/usr/local/lib/python3.9/dist-packages/prophet/stan_model/prophet_model.bin', 'random', 'seed=71620', 'data', 'file=/tmp/tmpqki2d_87/qfpkscxh.json', 'init=/tmp/tmpqki2d_87/kbpldxm4.json', 'output', 'file=/tmp/tmpqki2d_87/prophet_modelfrv816dp/prophet_model-20230421064714.csv', 'method=optimize', 'algorithm=newton', 'iter=10000']\n",
            "06:47:14 - cmdstanpy - INFO - Chain [1] start processing\n",
            "INFO:cmdstanpy:Chain [1] start processing\n",
            "06:47:14 - cmdstanpy - INFO - Chain [1] done processing\n",
            "INFO:cmdstanpy:Chain [1] done processing\n"
          ]
        },
        {
          "output_type": "execute_result",
          "data": {
            "text/plain": [
              "<prophet.forecaster.Prophet at 0x7f25eedc7580>"
            ]
          },
          "metadata": {},
          "execution_count": 285
        }
      ]
    },
    {
      "cell_type": "code",
      "source": [
        "future_dates=model.make_future_dataframe(periods=30)"
      ],
      "metadata": {
        "id": "BsbWv5eaX0wi"
      },
      "execution_count": 286,
      "outputs": []
    },
    {
      "cell_type": "code",
      "source": [
        "forecast=model.predict(future_dates)"
      ],
      "metadata": {
        "id": "O8D1cTF2X8K6"
      },
      "execution_count": 287,
      "outputs": []
    },
    {
      "cell_type": "code",
      "source": [
        "model.plot(forecast)\n",
        "print(forecast)"
      ],
      "metadata": {
        "colab": {
          "base_uri": "https://localhost:8080/",
          "height": 3024
        },
        "id": "Rz7BlQ5QX-py",
        "outputId": "739ef785-caeb-4f30-a3f2-d53e9da527b7"
      },
      "execution_count": 288,
      "outputs": [
        {
          "output_type": "stream",
          "name": "stdout",
          "text": [
            "           ds      trend  yhat_lower  yhat_upper  trend_lower  trend_upper  \\\n",
            "0  2022-02-15  10.814096    7.265223   14.679479    10.814096    10.814096   \n",
            "1  2022-04-15  11.382076    7.803382   15.275183    11.382076    11.382076   \n",
            "2  2022-07-25  12.354381    8.868461   15.892595    12.354381    12.354381   \n",
            "3  2022-10-26  13.249671    9.578307   16.687133    13.249671    13.249671   \n",
            "4  2022-11-27  13.557727    9.999897   17.134361    13.557727    13.557727   \n",
            "5  2023-02-01  14.193092   10.641211   17.659563    14.193092    14.193092   \n",
            "6  2023-02-27  14.443388   10.504422   17.930851    14.443388    14.443388   \n",
            "7  2023-02-28  14.453015   11.065767   17.895654    14.453015    14.453015   \n",
            "8  2023-03-01  14.462641   10.914927   17.983756    14.462641    14.462641   \n",
            "9  2023-03-02  14.472268   10.643060   17.741498    14.472268    14.472268   \n",
            "10 2023-03-03  14.481895   11.150254   18.020624    14.481895    14.481895   \n",
            "11 2023-03-04  14.491522   10.858611   18.077613    14.491522    14.491522   \n",
            "12 2023-03-05  14.501148   10.792699   17.964697    14.501148    14.501148   \n",
            "13 2023-03-06  14.510775   10.951790   18.198167    14.510775    14.510775   \n",
            "14 2023-03-07  14.520402   10.832376   18.317460    14.520402    14.520402   \n",
            "15 2023-03-08  14.530029   11.091584   18.148623    14.530029    14.530029   \n",
            "16 2023-03-09  14.539655   10.829442   18.376812    14.539655    14.539655   \n",
            "17 2023-03-10  14.549282   10.897362   18.235481    14.549282    14.549282   \n",
            "18 2023-03-11  14.558909   11.179834   18.183404    14.558909    14.558909   \n",
            "19 2023-03-12  14.568536   11.012675   17.940800    14.568536    14.568536   \n",
            "20 2023-03-13  14.578162   11.041046   18.038253    14.578162    14.578162   \n",
            "21 2023-03-14  14.587789   10.683436   18.054695    14.587789    14.587789   \n",
            "22 2023-03-15  14.597416   11.079011   17.911909    14.597416    14.597416   \n",
            "23 2023-03-16  14.607043   11.231285   18.195644    14.607043    14.607043   \n",
            "24 2023-03-17  14.616669   11.181389   18.455963    14.616669    14.616669   \n",
            "25 2023-03-18  14.626296   11.301165   18.257607    14.626296    14.626296   \n",
            "26 2023-03-19  14.635923   11.136533   18.248329    14.635923    14.635923   \n",
            "27 2023-03-20  14.645550   11.109314   18.178343    14.645549    14.645550   \n",
            "28 2023-03-21  14.655176   11.365050   18.302302    14.655176    14.655177   \n",
            "29 2023-03-22  14.664803   11.376761   18.336910    14.664803    14.664803   \n",
            "30 2023-03-23  14.674430   11.348418   18.204562    14.674430    14.674430   \n",
            "31 2023-03-24  14.684057   11.072136   18.077794    14.684056    14.684057   \n",
            "32 2023-03-25  14.693683   10.971775   18.359174    14.693683    14.693684   \n",
            "33 2023-03-26  14.703310   11.132385   18.345568    14.703310    14.703310   \n",
            "34 2023-03-27  14.712937   11.102571   18.373498    14.712937    14.712937   \n",
            "35 2023-03-28  14.722564   11.179170   18.238733    14.722563    14.722564   \n",
            "36 2023-03-29  14.732190   11.210431   18.831436    14.732190    14.732191   \n",
            "\n",
            "    additive_terms  additive_terms_lower  additive_terms_upper  \\\n",
            "0              0.0                   0.0                   0.0   \n",
            "1              0.0                   0.0                   0.0   \n",
            "2              0.0                   0.0                   0.0   \n",
            "3              0.0                   0.0                   0.0   \n",
            "4              0.0                   0.0                   0.0   \n",
            "5              0.0                   0.0                   0.0   \n",
            "6              0.0                   0.0                   0.0   \n",
            "7              0.0                   0.0                   0.0   \n",
            "8              0.0                   0.0                   0.0   \n",
            "9              0.0                   0.0                   0.0   \n",
            "10             0.0                   0.0                   0.0   \n",
            "11             0.0                   0.0                   0.0   \n",
            "12             0.0                   0.0                   0.0   \n",
            "13             0.0                   0.0                   0.0   \n",
            "14             0.0                   0.0                   0.0   \n",
            "15             0.0                   0.0                   0.0   \n",
            "16             0.0                   0.0                   0.0   \n",
            "17             0.0                   0.0                   0.0   \n",
            "18             0.0                   0.0                   0.0   \n",
            "19             0.0                   0.0                   0.0   \n",
            "20             0.0                   0.0                   0.0   \n",
            "21             0.0                   0.0                   0.0   \n",
            "22             0.0                   0.0                   0.0   \n",
            "23             0.0                   0.0                   0.0   \n",
            "24             0.0                   0.0                   0.0   \n",
            "25             0.0                   0.0                   0.0   \n",
            "26             0.0                   0.0                   0.0   \n",
            "27             0.0                   0.0                   0.0   \n",
            "28             0.0                   0.0                   0.0   \n",
            "29             0.0                   0.0                   0.0   \n",
            "30             0.0                   0.0                   0.0   \n",
            "31             0.0                   0.0                   0.0   \n",
            "32             0.0                   0.0                   0.0   \n",
            "33             0.0                   0.0                   0.0   \n",
            "34             0.0                   0.0                   0.0   \n",
            "35             0.0                   0.0                   0.0   \n",
            "36             0.0                   0.0                   0.0   \n",
            "\n",
            "    multiplicative_terms  multiplicative_terms_lower  \\\n",
            "0                    0.0                         0.0   \n",
            "1                    0.0                         0.0   \n",
            "2                    0.0                         0.0   \n",
            "3                    0.0                         0.0   \n",
            "4                    0.0                         0.0   \n",
            "5                    0.0                         0.0   \n",
            "6                    0.0                         0.0   \n",
            "7                    0.0                         0.0   \n",
            "8                    0.0                         0.0   \n",
            "9                    0.0                         0.0   \n",
            "10                   0.0                         0.0   \n",
            "11                   0.0                         0.0   \n",
            "12                   0.0                         0.0   \n",
            "13                   0.0                         0.0   \n",
            "14                   0.0                         0.0   \n",
            "15                   0.0                         0.0   \n",
            "16                   0.0                         0.0   \n",
            "17                   0.0                         0.0   \n",
            "18                   0.0                         0.0   \n",
            "19                   0.0                         0.0   \n",
            "20                   0.0                         0.0   \n",
            "21                   0.0                         0.0   \n",
            "22                   0.0                         0.0   \n",
            "23                   0.0                         0.0   \n",
            "24                   0.0                         0.0   \n",
            "25                   0.0                         0.0   \n",
            "26                   0.0                         0.0   \n",
            "27                   0.0                         0.0   \n",
            "28                   0.0                         0.0   \n",
            "29                   0.0                         0.0   \n",
            "30                   0.0                         0.0   \n",
            "31                   0.0                         0.0   \n",
            "32                   0.0                         0.0   \n",
            "33                   0.0                         0.0   \n",
            "34                   0.0                         0.0   \n",
            "35                   0.0                         0.0   \n",
            "36                   0.0                         0.0   \n",
            "\n",
            "    multiplicative_terms_upper       yhat  \n",
            "0                          0.0  10.814096  \n",
            "1                          0.0  11.382076  \n",
            "2                          0.0  12.354381  \n",
            "3                          0.0  13.249671  \n",
            "4                          0.0  13.557727  \n",
            "5                          0.0  14.193092  \n",
            "6                          0.0  14.443388  \n",
            "7                          0.0  14.453015  \n",
            "8                          0.0  14.462641  \n",
            "9                          0.0  14.472268  \n",
            "10                         0.0  14.481895  \n",
            "11                         0.0  14.491522  \n",
            "12                         0.0  14.501148  \n",
            "13                         0.0  14.510775  \n",
            "14                         0.0  14.520402  \n",
            "15                         0.0  14.530029  \n",
            "16                         0.0  14.539655  \n",
            "17                         0.0  14.549282  \n",
            "18                         0.0  14.558909  \n",
            "19                         0.0  14.568536  \n",
            "20                         0.0  14.578162  \n",
            "21                         0.0  14.587789  \n",
            "22                         0.0  14.597416  \n",
            "23                         0.0  14.607043  \n",
            "24                         0.0  14.616669  \n",
            "25                         0.0  14.626296  \n",
            "26                         0.0  14.635923  \n",
            "27                         0.0  14.645550  \n",
            "28                         0.0  14.655176  \n",
            "29                         0.0  14.664803  \n",
            "30                         0.0  14.674430  \n",
            "31                         0.0  14.684057  \n",
            "32                         0.0  14.693683  \n",
            "33                         0.0  14.703310  \n",
            "34                         0.0  14.712937  \n",
            "35                         0.0  14.722564  \n",
            "36                         0.0  14.732190  \n"
          ]
        },
        {
          "output_type": "display_data",
          "data": {
            "text/plain": [
              "<Figure size 1000x600 with 1 Axes>"
            ],
            "image/png": "[encoded data removed]"
          },
          "metadata": {}
        }
      ]
    },
    {
      "cell_type": "code",
      "source": [
        "component=model.plot_components(forecast)"
      ],
      "metadata": {
        "colab": {
          "base_uri": "https://localhost:8080/",
          "height": 307
        },
        "id": "yqBCJ_F0YB2s",
        "outputId": "c0dc56dc-a9ed-4a43-b589-ad514eb47a1b"
      },
      "execution_count": 289,
      "outputs": [
        {
          "output_type": "display_data",
          "data": {
            "text/plain": [
              "<Figure size 900x300 with 1 Axes>"
            ],
            "image/png": "[encoded data removed]"
          },
          "metadata": {}
        }
      ]
    },
    {
      "cell_type": "code",
      "source": [
        " model1=Prophet(interval_width=0.95)"
      ],
      "metadata": {
        "id": "Io61ZqqIYHGP"
      },
      "execution_count": 292,
      "outputs": []
    },
    {
      "cell_type": "code",
      "source": [
        " model1.fit(population)"
      ],
      "metadata": {
        "colab": {
          "base_uri": "https://localhost:8080/",
          "height": 0
        },
        "id": "rARjHmW3YLQ_",
        "outputId": "627d5871-6422-4e94-b3ab-3afceeb9c955"
      },
      "execution_count": 293,
      "outputs": [
        {
          "output_type": "stream",
          "name": "stderr",
          "text": [
            "INFO:prophet:Disabling yearly seasonality. Run prophet with yearly_seasonality=True to override this.\n",
            "INFO:prophet:Disabling weekly seasonality. Run prophet with weekly_seasonality=True to override this.\n",
            "INFO:prophet:Disabling daily seasonality. Run prophet with daily_seasonality=True to override this.\n",
            "INFO:prophet:n_changepoints greater than number of observations. Using 4.\n",
            "DEBUG:cmdstanpy:input tempfile: /tmp/tmpqki2d_87/hm0gzbkl.json\n",
            "DEBUG:cmdstanpy:input tempfile: /tmp/tmpqki2d_87/9v4a4f69.json\n",
            "DEBUG:cmdstanpy:idx 0\n",
            "DEBUG:cmdstanpy:running CmdStan, num_threads: None\n",
            "DEBUG:cmdstanpy:CmdStan args: ['/usr/local/lib/python3.9/dist-packages/prophet/stan_model/prophet_model.bin', 'random', 'seed=11691', 'data', 'file=/tmp/tmpqki2d_87/hm0gzbkl.json', 'init=/tmp/tmpqki2d_87/9v4a4f69.json', 'output', 'file=/tmp/tmpqki2d_87/prophet_modelo8vt8s_i/prophet_model-20230421064943.csv', 'method=optimize', 'algorithm=newton', 'iter=10000']\n",
            "06:49:43 - cmdstanpy - INFO - Chain [1] start processing\n",
            "INFO:cmdstanpy:Chain [1] start processing\n",
            "06:49:44 - cmdstanpy - INFO - Chain [1] done processing\n",
            "INFO:cmdstanpy:Chain [1] done processing\n"
          ]
        },
        {
          "output_type": "execute_result",
          "data": {
            "text/plain": [
              "<prophet.forecaster.Prophet at 0x7f25ef29b700>"
            ]
          },
          "metadata": {},
          "execution_count": 293
        }
      ]
    },
    {
      "cell_type": "code",
      "source": [
        "future_dates=model1.make_future_dataframe(periods=10)"
      ],
      "metadata": {
        "id": "67_BflY9YPPb"
      },
      "execution_count": 294,
      "outputs": []
    },
    {
      "cell_type": "code",
      "source": [
        "forecasting=model.predict(future_dates)\n",
        "ploting=model.plot(forecasting)"
      ],
      "metadata": {
        "colab": {
          "base_uri": "https://localhost:8080/",
          "height": 607
        },
        "id": "v-fmEXsSYSJK",
        "outputId": "2c0c7d69-b705-4ed3-b25f-ecd8d3bb22b5"
      },
      "execution_count": 295,
      "outputs": [
        {
          "output_type": "display_data",
          "data": {
            "text/plain": [
              "<Figure size 1000x600 with 1 Axes>"
            ],
            "image/png": "[encoded data removed]"
          },
          "metadata": {}
        }
      ]
    },
    {
      "cell_type": "code",
      "source": [
        "week=model1.plot_components(forecasting)\n",
        "print(forecasting)"
      ],
      "metadata": {
        "colab": {
          "base_uri": "https://localhost:8080/",
          "height": 1501
        },
        "id": "0s9s1BwYYVNB",
        "outputId": "4d9fc7b5-2141-47de-cb33-9eff73d202d2"
      },
      "execution_count": 296,
      "outputs": [
        {
          "output_type": "stream",
          "name": "stdout",
          "text": [
            "           ds      trend  yhat_lower  yhat_upper  trend_lower  trend_upper  \\\n",
            "0  2022-02-15  10.814096    7.380269   14.295323    10.814096    10.814096   \n",
            "1  2022-04-15  11.382076    7.807757   14.886349    11.382076    11.382076   \n",
            "2  2022-07-25  12.354381    8.608370   16.090965    12.354381    12.354381   \n",
            "3  2022-10-26  13.249671    9.790303   16.630756    13.249671    13.249671   \n",
            "4  2022-11-27  13.557727    9.962539   17.170007    13.557727    13.557727   \n",
            "5  2023-02-01  14.193092   10.318624   17.666686    14.193092    14.193092   \n",
            "6  2023-02-27  14.443388   10.852939   17.915149    14.443388    14.443388   \n",
            "7  2023-02-28  14.453015   11.053699   18.132245    14.453015    14.453015   \n",
            "8  2023-03-01  14.462641   10.753818   18.172661    14.462641    14.462641   \n",
            "9  2023-03-02  14.472268   10.890167   18.030450    14.472268    14.472268   \n",
            "10 2023-03-03  14.481895   10.574911   18.090233    14.481895    14.481895   \n",
            "11 2023-03-04  14.491522   11.065013   18.267715    14.491522    14.491522   \n",
            "12 2023-03-05  14.501148   10.809669   18.181343    14.501148    14.501148   \n",
            "13 2023-03-06  14.510775   10.806578   18.025148    14.510775    14.510775   \n",
            "14 2023-03-07  14.520402   11.073638   18.365427    14.520402    14.520402   \n",
            "15 2023-03-08  14.530029   11.108197   18.235244    14.530029    14.530029   \n",
            "16 2023-03-09  14.539655   11.176320   18.126594    14.539655    14.539655   \n",
            "\n",
            "    additive_terms  additive_terms_lower  additive_terms_upper  \\\n",
            "0              0.0                   0.0                   0.0   \n",
            "1              0.0                   0.0                   0.0   \n",
            "2              0.0                   0.0                   0.0   \n",
            "3              0.0                   0.0                   0.0   \n",
            "4              0.0                   0.0                   0.0   \n",
            "5              0.0                   0.0                   0.0   \n",
            "6              0.0                   0.0                   0.0   \n",
            "7              0.0                   0.0                   0.0   \n",
            "8              0.0                   0.0                   0.0   \n",
            "9              0.0                   0.0                   0.0   \n",
            "10             0.0                   0.0                   0.0   \n",
            "11             0.0                   0.0                   0.0   \n",
            "12             0.0                   0.0                   0.0   \n",
            "13             0.0                   0.0                   0.0   \n",
            "14             0.0                   0.0                   0.0   \n",
            "15             0.0                   0.0                   0.0   \n",
            "16             0.0                   0.0                   0.0   \n",
            "\n",
            "    multiplicative_terms  multiplicative_terms_lower  \\\n",
            "0                    0.0                         0.0   \n",
            "1                    0.0                         0.0   \n",
            "2                    0.0                         0.0   \n",
            "3                    0.0                         0.0   \n",
            "4                    0.0                         0.0   \n",
            "5                    0.0                         0.0   \n",
            "6                    0.0                         0.0   \n",
            "7                    0.0                         0.0   \n",
            "8                    0.0                         0.0   \n",
            "9                    0.0                         0.0   \n",
            "10                   0.0                         0.0   \n",
            "11                   0.0                         0.0   \n",
            "12                   0.0                         0.0   \n",
            "13                   0.0                         0.0   \n",
            "14                   0.0                         0.0   \n",
            "15                   0.0                         0.0   \n",
            "16                   0.0                         0.0   \n",
            "\n",
            "    multiplicative_terms_upper       yhat  \n",
            "0                          0.0  10.814096  \n",
            "1                          0.0  11.382076  \n",
            "2                          0.0  12.354381  \n",
            "3                          0.0  13.249671  \n",
            "4                          0.0  13.557727  \n",
            "5                          0.0  14.193092  \n",
            "6                          0.0  14.443388  \n",
            "7                          0.0  14.453015  \n",
            "8                          0.0  14.462641  \n",
            "9                          0.0  14.472268  \n",
            "10                         0.0  14.481895  \n",
            "11                         0.0  14.491522  \n",
            "12                         0.0  14.501148  \n",
            "13                         0.0  14.510775  \n",
            "14                         0.0  14.520402  \n",
            "15                         0.0  14.530029  \n",
            "16                         0.0  14.539655  \n"
          ]
        },
        {
          "output_type": "display_data",
          "data": {
            "text/plain": [
              "<Figure size 900x300 with 1 Axes>"
            ],
            "image/png": "[encoded data removed]"
          },
          "metadata": {}
        }
      ]
    }
  ]
}