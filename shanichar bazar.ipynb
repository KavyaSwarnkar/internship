{
  "nbformat": 4,
  "nbformat_minor": 0,
  "metadata": {
    "colab": {
      "provenance": []
    },
    "kernelspec": {
      "name": "python3",
      "display_name": "Python 3"
    },
    "language_info": {
      "name": "python"
    }
  },
  "cells": [
    {
      "cell_type": "code",
      "execution_count": 394,
      "metadata": {
        "id": "vxNjP86FV9_N"
      },
      "outputs": [],
      "source": [
        "import pandas as pd\n",
        "import numpy as np\n",
        "import matplotlib.pyplot as plt\n",
        "import seaborn as sns\n",
        "import plotly.express as px ## World Map"
      ]
    },
    {
      "cell_type": "code",
      "source": [
        "df=pd.read_csv(\"shanichar bazar.csv\")\n",
        "df.head()"
      ],
      "metadata": {
        "colab": {
          "base_uri": "https://localhost:8080/",
          "height": 206
        },
        "id": "uXM32LzgW-6h",
        "outputId": "f0cbec0b-5f90-4809-e3a4-b0100b58b273"
      },
      "execution_count": 395,
      "outputs": [
        {
          "output_type": "execute_result",
          "data": {
            "text/plain": [
              "         date  population\n",
              "0  03-01-2022          14\n",
              "1  19-02-2022          10\n",
              "2  22-03-2022           7\n",
              "3  06-05-2022           8\n",
              "4  16-06-2022           8"
            ],
            "text/html": [
              "\n",
              "  <div id=\"df-bdbf22ed-e2e3-45c1-8bcf-4e3941c796a3\">\n",
              "    <div class=\"colab-df-container\">\n",
              "      <div>\n",
              "<style scoped>\n",
              "    .dataframe tbody tr th:only-of-type {\n",
              "        vertical-align: middle;\n",
              "    }\n",
              "\n",
              "    .dataframe tbody tr th {\n",
              "        vertical-align: top;\n",
              "    }\n",
              "\n",
              "    .dataframe thead th {\n",
              "        text-align: right;\n",
              "    }\n",
              "</style>\n",
              "<table border=\"1\" class=\"dataframe\">\n",
              "  <thead>\n",
              "    <tr style=\"text-align: right;\">\n",
              "      <th></th>\n",
              "      <th>date</th>\n",
              "      <th>population</th>\n",
              "    </tr>\n",
              "  </thead>\n",
              "  <tbody>\n",
              "    <tr>\n",
              "      <th>0</th>\n",
              "      <td>03-01-2022</td>\n",
              "      <td>14</td>\n",
              "    </tr>\n",
              "    <tr>\n",
              "      <th>1</th>\n",
              "      <td>19-02-2022</td>\n",
              "      <td>10</td>\n",
              "    </tr>\n",
              "    <tr>\n",
              "      <th>2</th>\n",
              "      <td>22-03-2022</td>\n",
              "      <td>7</td>\n",
              "    </tr>\n",
              "    <tr>\n",
              "      <th>3</th>\n",
              "      <td>06-05-2022</td>\n",
              "      <td>8</td>\n",
              "    </tr>\n",
              "    <tr>\n",
              "      <th>4</th>\n",
              "      <td>16-06-2022</td>\n",
              "      <td>8</td>\n",
              "    </tr>\n",
              "  </tbody>\n",
              "</table>\n",
              "</div>\n",
              "      <button class=\"colab-df-convert\" onclick=\"convertToInteractive('df-bdbf22ed-e2e3-45c1-8bcf-4e3941c796a3')\"\n",
              "              title=\"Convert this dataframe to an interactive table.\"\n",
              "              style=\"display:none;\">\n",
              "        \n",
              "  <svg xmlns=\"http://www.w3.org/2000/svg\" height=\"24px\"viewBox=\"0 0 24 24\"\n",
              "       width=\"24px\">\n",
              "    <path d=\"M0 0h24v24H0V0z\" fill=\"none\"/>\n",
              "    <path d=\"M18.56 5.44l.94 2.06.94-2.06 2.06-.94-2.06-.94-.94-2.06-.94 2.06-2.06.94zm-11 1L8.5 8.5l.94-2.06 2.06-.94-2.06-.94L8.5 2.5l-.94 2.06-2.06.94zm10 10l.94 2.06.94-2.06 2.06-.94-2.06-.94-.94-2.06-.94 2.06-2.06.94z\"/><path d=\"M17.41 7.96l-1.37-1.37c-.4-.4-.92-.59-1.43-.59-.52 0-1.04.2-1.43.59L10.3 9.45l-7.72 7.72c-.78.78-.78 2.05 0 2.83L4 21.41c.39.39.9.59 1.41.59.51 0 1.02-.2 1.41-.59l7.78-7.78 2.81-2.81c.8-.78.8-2.07 0-2.86zM5.41 20L4 18.59l7.72-7.72 1.47 1.35L5.41 20z\"/>\n",
              "  </svg>\n",
              "      </button>\n",
              "      \n",
              "  <style>\n",
              "    .colab-df-container {\n",
              "      display:flex;\n",
              "      flex-wrap:wrap;\n",
              "      gap: 12px;\n",
              "    }\n",
              "\n",
              "    .colab-df-convert {\n",
              "      background-color: #E8F0FE;\n",
              "      border: none;\n",
              "      border-radius: 50%;\n",
              "      cursor: pointer;\n",
              "      display: none;\n",
              "      fill: #1967D2;\n",
              "      height: 32px;\n",
              "      padding: 0 0 0 0;\n",
              "      width: 32px;\n",
              "    }\n",
              "\n",
              "    .colab-df-convert:hover {\n",
              "      background-color: #E2EBFA;\n",
              "      box-shadow: 0px 1px 2px rgba(60, 64, 67, 0.3), 0px 1px 3px 1px rgba(60, 64, 67, 0.15);\n",
              "      fill: #174EA6;\n",
              "    }\n",
              "\n",
              "    [theme=dark] .colab-df-convert {\n",
              "      background-color: #3B4455;\n",
              "      fill: #D2E3FC;\n",
              "    }\n",
              "\n",
              "    [theme=dark] .colab-df-convert:hover {\n",
              "      background-color: #434B5C;\n",
              "      box-shadow: 0px 1px 3px 1px rgba(0, 0, 0, 0.15);\n",
              "      filter: drop-shadow(0px 1px 2px rgba(0, 0, 0, 0.3));\n",
              "      fill: #FFFFFF;\n",
              "    }\n",
              "  </style>\n",
              "\n",
              "      <script>\n",
              "        const buttonEl =\n",
              "          document.querySelector('#df-bdbf22ed-e2e3-45c1-8bcf-4e3941c796a3 button.colab-df-convert');\n",
              "        buttonEl.style.display =\n",
              "          google.colab.kernel.accessAllowed ? 'block' : 'none';\n",
              "\n",
              "        async function convertToInteractive(key) {\n",
              "          const element = document.querySelector('#df-bdbf22ed-e2e3-45c1-8bcf-4e3941c796a3');\n",
              "          const dataTable =\n",
              "            await google.colab.kernel.invokeFunction('convertToInteractive',\n",
              "                                                     [key], {});\n",
              "          if (!dataTable) return;\n",
              "\n",
              "          const docLinkHtml = 'Like what you see? Visit the ' +\n",
              "            '<a target=\"_blank\" href=https://colab.research.google.com/notebooks/data_table.ipynb>data table notebook</a>'\n",
              "            + ' to learn more about interactive tables.';\n",
              "          element.innerHTML = '';\n",
              "          dataTable['output_type'] = 'display_data';\n",
              "          await google.colab.output.renderOutput(dataTable, element);\n",
              "          const docLink = document.createElement('div');\n",
              "          docLink.innerHTML = docLinkHtml;\n",
              "          element.appendChild(docLink);\n",
              "        }\n",
              "      </script>\n",
              "    </div>\n",
              "  </div>\n",
              "  "
            ]
          },
          "metadata": {},
          "execution_count": 395
        }
      ]
    },
    {
      "cell_type": "code",
      "source": [
        "df.info()"
      ],
      "metadata": {
        "colab": {
          "base_uri": "https://localhost:8080/"
        },
        "id": "2s2csG0kXDTy",
        "outputId": "586fcd69-0428-47ce-bada-06a15952ed7e"
      },
      "execution_count": 396,
      "outputs": [
        {
          "output_type": "stream",
          "name": "stdout",
          "text": [
            "<class 'pandas.core.frame.DataFrame'>\n",
            "RangeIndex: 9 entries, 0 to 8\n",
            "Data columns (total 2 columns):\n",
            " #   Column      Non-Null Count  Dtype \n",
            "---  ------      --------------  ----- \n",
            " 0   date        9 non-null      object\n",
            " 1   population  9 non-null      int64 \n",
            "dtypes: int64(1), object(1)\n",
            "memory usage: 272.0+ bytes\n"
          ]
        }
      ]
    },
    {
      "cell_type": "code",
      "source": [
        "df.isnull().sum()"
      ],
      "metadata": {
        "colab": {
          "base_uri": "https://localhost:8080/"
        },
        "id": "5jwyIyy-XP2G",
        "outputId": "6878760d-f826-4616-8964-fa65b5d3df3f"
      },
      "execution_count": 397,
      "outputs": [
        {
          "output_type": "execute_result",
          "data": {
            "text/plain": [
              "date          0\n",
              "population    0\n",
              "dtype: int64"
            ]
          },
          "metadata": {},
          "execution_count": 397
        }
      ]
    },
    {
      "cell_type": "code",
      "source": [
        "df[\"date\"]= pd.to_datetime(df[\"date\"])"
      ],
      "metadata": {
        "colab": {
          "base_uri": "https://localhost:8080/"
        },
        "id": "fF-EMwKoXTAl",
        "outputId": "e5900150-d2ac-4ed3-8a6e-549d9df161b7"
      },
      "execution_count": 398,
      "outputs": [
        {
          "output_type": "stream",
          "name": "stderr",
          "text": [
            "<ipython-input-398-082167ba8dcc>:1: UserWarning: Parsing dates in DD/MM/YYYY format when dayfirst=False (the default) was specified. This may lead to inconsistently parsed dates! Specify a format to ensure consistent parsing.\n",
            "  df[\"date\"]= pd.to_datetime(df[\"date\"])\n"
          ]
        }
      ]
    },
    {
      "cell_type": "code",
      "source": [
        " !pip install prophet"
      ],
      "metadata": {
        "colab": {
          "base_uri": "https://localhost:8080/"
        },
        "id": "31WHiRxDXd7z",
        "outputId": "3c30f9f2-c4fb-40f5-9db2-616b8788f669"
      },
      "execution_count": 399,
      "outputs": [
        {
          "output_type": "stream",
          "name": "stdout",
          "text": [
            "Looking in indexes: https://pypi.org/simple, https://us-python.pkg.dev/colab-wheels/public/simple/\n",
            "Requirement already satisfied: prophet in /usr/local/lib/python3.9/dist-packages (1.1.2)\n",
            "Requirement already satisfied: pandas>=1.0.4 in /usr/local/lib/python3.9/dist-packages (from prophet) (1.5.3)\n",
            "Requirement already satisfied: convertdate>=2.1.2 in /usr/local/lib/python3.9/dist-packages (from prophet) (2.4.0)\n",
            "Requirement already satisfied: python-dateutil>=2.8.0 in /usr/local/lib/python3.9/dist-packages (from prophet) (2.8.2)\n",
            "Requirement already satisfied: cmdstanpy>=1.0.4 in /usr/local/lib/python3.9/dist-packages (from prophet) (1.1.0)\n",
            "Requirement already satisfied: holidays>=0.14.2 in /usr/local/lib/python3.9/dist-packages (from prophet) (0.22)\n",
            "Requirement already satisfied: LunarCalendar>=0.0.9 in /usr/local/lib/python3.9/dist-packages (from prophet) (0.0.9)\n",
            "Requirement already satisfied: numpy>=1.15.4 in /usr/local/lib/python3.9/dist-packages (from prophet) (1.22.4)\n",
            "Requirement already satisfied: tqdm>=4.36.1 in /usr/local/lib/python3.9/dist-packages (from prophet) (4.65.0)\n",
            "Requirement already satisfied: matplotlib>=2.0.0 in /usr/local/lib/python3.9/dist-packages (from prophet) (3.7.1)\n",
            "Requirement already satisfied: pymeeus<=1,>=0.3.13 in /usr/local/lib/python3.9/dist-packages (from convertdate>=2.1.2->prophet) (0.5.12)\n",
            "Requirement already satisfied: korean-lunar-calendar in /usr/local/lib/python3.9/dist-packages (from holidays>=0.14.2->prophet) (0.3.1)\n",
            "Requirement already satisfied: hijri-converter in /usr/local/lib/python3.9/dist-packages (from holidays>=0.14.2->prophet) (2.2.4)\n",
            "Requirement already satisfied: ephem>=3.7.5.3 in /usr/local/lib/python3.9/dist-packages (from LunarCalendar>=0.0.9->prophet) (4.1.4)\n",
            "Requirement already satisfied: pytz in /usr/local/lib/python3.9/dist-packages (from LunarCalendar>=0.0.9->prophet) (2022.7.1)\n",
            "Requirement already satisfied: contourpy>=1.0.1 in /usr/local/lib/python3.9/dist-packages (from matplotlib>=2.0.0->prophet) (1.0.7)\n",
            "Requirement already satisfied: pillow>=6.2.0 in /usr/local/lib/python3.9/dist-packages (from matplotlib>=2.0.0->prophet) (8.4.0)\n",
            "Requirement already satisfied: packaging>=20.0 in /usr/local/lib/python3.9/dist-packages (from matplotlib>=2.0.0->prophet) (23.1)\n",
            "Requirement already satisfied: importlib-resources>=3.2.0 in /usr/local/lib/python3.9/dist-packages (from matplotlib>=2.0.0->prophet) (5.12.0)\n",
            "Requirement already satisfied: kiwisolver>=1.0.1 in /usr/local/lib/python3.9/dist-packages (from matplotlib>=2.0.0->prophet) (1.4.4)\n",
            "Requirement already satisfied: fonttools>=4.22.0 in /usr/local/lib/python3.9/dist-packages (from matplotlib>=2.0.0->prophet) (4.39.3)\n",
            "Requirement already satisfied: cycler>=0.10 in /usr/local/lib/python3.9/dist-packages (from matplotlib>=2.0.0->prophet) (0.11.0)\n",
            "Requirement already satisfied: pyparsing>=2.3.1 in /usr/local/lib/python3.9/dist-packages (from matplotlib>=2.0.0->prophet) (3.0.9)\n",
            "Requirement already satisfied: six>=1.5 in /usr/local/lib/python3.9/dist-packages (from python-dateutil>=2.8.0->prophet) (1.16.0)\n",
            "Requirement already satisfied: zipp>=3.1.0 in /usr/local/lib/python3.9/dist-packages (from importlib-resources>=3.2.0->matplotlib>=2.0.0->prophet) (3.15.0)\n"
          ]
        }
      ]
    },
    {
      "cell_type": "code",
      "source": [
        " from prophet import Prophet"
      ],
      "metadata": {
        "id": "6bfO-j4nXkYz"
      },
      "execution_count": 400,
      "outputs": []
    },
    {
      "cell_type": "code",
      "source": [
        "population=df.groupby('date')['population'].sum().reset_index()"
      ],
      "metadata": {
        "id": "1UAH9U7TXoRK"
      },
      "execution_count": 401,
      "outputs": []
    },
    {
      "cell_type": "code",
      "source": [
        "population.rename(columns={\"date\":\"ds\",\"population\":\"y\"},inplace=True)"
      ],
      "metadata": {
        "id": "9uwuHY8FXrIV"
      },
      "execution_count": 402,
      "outputs": []
    },
    {
      "cell_type": "code",
      "source": [
        "model=Prophet(interval_width=0.95)"
      ],
      "metadata": {
        "id": "gl9IDqcEXuFm"
      },
      "execution_count": 403,
      "outputs": []
    },
    {
      "cell_type": "code",
      "source": [
        "model.fit(population)"
      ],
      "metadata": {
        "colab": {
          "base_uri": "https://localhost:8080/"
        },
        "id": "KD1ezWu6XxNv",
        "outputId": "08a45902-7854-4e0b-cc64-0638481a064f"
      },
      "execution_count": 404,
      "outputs": [
        {
          "output_type": "stream",
          "name": "stderr",
          "text": [
            "INFO:prophet:Disabling yearly seasonality. Run prophet with yearly_seasonality=True to override this.\n",
            "INFO:prophet:Disabling weekly seasonality. Run prophet with weekly_seasonality=True to override this.\n",
            "INFO:prophet:Disabling daily seasonality. Run prophet with daily_seasonality=True to override this.\n",
            "INFO:prophet:n_changepoints greater than number of observations. Using 6.\n",
            "DEBUG:cmdstanpy:input tempfile: /tmp/tmpqki2d_87/k5a9p2_o.json\n",
            "DEBUG:cmdstanpy:input tempfile: /tmp/tmpqki2d_87/c7_w20jn.json\n",
            "DEBUG:cmdstanpy:idx 0\n",
            "DEBUG:cmdstanpy:running CmdStan, num_threads: None\n",
            "DEBUG:cmdstanpy:CmdStan args: ['/usr/local/lib/python3.9/dist-packages/prophet/stan_model/prophet_model.bin', 'random', 'seed=54857', 'data', 'file=/tmp/tmpqki2d_87/k5a9p2_o.json', 'init=/tmp/tmpqki2d_87/c7_w20jn.json', 'output', 'file=/tmp/tmpqki2d_87/prophet_modelc81wvpki/prophet_model-20230421071715.csv', 'method=optimize', 'algorithm=newton', 'iter=10000']\n",
            "07:17:15 - cmdstanpy - INFO - Chain [1] start processing\n",
            "INFO:cmdstanpy:Chain [1] start processing\n",
            "07:17:15 - cmdstanpy - INFO - Chain [1] done processing\n",
            "INFO:cmdstanpy:Chain [1] done processing\n"
          ]
        },
        {
          "output_type": "execute_result",
          "data": {
            "text/plain": [
              "<prophet.forecaster.Prophet at 0x7f25ef2ddee0>"
            ]
          },
          "metadata": {},
          "execution_count": 404
        }
      ]
    },
    {
      "cell_type": "code",
      "source": [
        "future_dates=model.make_future_dataframe(periods=30)"
      ],
      "metadata": {
        "id": "BsbWv5eaX0wi"
      },
      "execution_count": 405,
      "outputs": []
    },
    {
      "cell_type": "code",
      "source": [
        "forecast=model.predict(future_dates)"
      ],
      "metadata": {
        "id": "O8D1cTF2X8K6"
      },
      "execution_count": 406,
      "outputs": []
    },
    {
      "cell_type": "code",
      "source": [
        "model.plot(forecast)\n",
        "print(forecast)"
      ],
      "metadata": {
        "colab": {
          "base_uri": "https://localhost:8080/",
          "height": 1000
        },
        "id": "Rz7BlQ5QX-py",
        "outputId": "f09b0fc2-2357-448f-d5f0-a15cf4f4fb8f"
      },
      "execution_count": 407,
      "outputs": [
        {
          "output_type": "stream",
          "name": "stdout",
          "text": [
            "           ds      trend  yhat_lower  yhat_upper  trend_lower  trend_upper  \\\n",
            "0  2022-01-12  10.689282    3.646937   17.085594    10.689282    10.689282   \n",
            "1  2022-02-19  10.612067    3.749598   17.079575    10.612067    10.612067   \n",
            "2  2022-03-01  10.591747    4.629343   17.804791    10.591747    10.591747   \n",
            "3  2022-03-22  10.549076    3.322894   17.752134    10.549076    10.549076   \n",
            "4  2022-06-05  10.396677    3.650628   17.272248    10.396677    10.396677   \n",
            "5  2022-06-16  10.374326    3.423549   17.623334    10.374326    10.374326   \n",
            "6  2022-08-08  10.266631    2.965072   17.404787    10.266631    10.266631   \n",
            "7  2022-09-29  10.160968    2.798623   17.624611    10.160968    10.160968   \n",
            "8  2023-11-02   9.350210    2.777127   16.272869     9.350210     9.350210   \n",
            "9  2023-11-03   9.348178    2.391096   16.282035     9.348178     9.348178   \n",
            "10 2023-11-04   9.346146    1.980263   16.362534     9.346146     9.346146   \n",
            "11 2023-11-05   9.344114    2.372000   16.510413     9.344114     9.344114   \n",
            "12 2023-11-06   9.342082    2.723353   16.398326     9.342082     9.342082   \n",
            "13 2023-11-07   9.340050    2.185534   16.258355     9.340050     9.340050   \n",
            "14 2023-11-08   9.338018    2.314072   15.880529     9.338018     9.338018   \n",
            "15 2023-11-09   9.335986    2.624819   16.734338     9.335986     9.335986   \n",
            "16 2023-11-10   9.333954    2.371454   16.253988     9.333954     9.333954   \n",
            "17 2023-11-11   9.331922    2.127212   15.929956     9.331922     9.331922   \n",
            "18 2023-11-12   9.329890    2.178515   16.252628     9.329890     9.329890   \n",
            "19 2023-11-13   9.327858    2.505464   15.439889     9.327858     9.327858   \n",
            "20 2023-11-14   9.325826    2.630323   16.623759     9.325826     9.325826   \n",
            "21 2023-11-15   9.323794    2.718791   16.321482     9.323794     9.323794   \n",
            "22 2023-11-16   9.321762    2.413357   15.905253     9.321762     9.321762   \n",
            "23 2023-11-17   9.319730    2.678939   16.194193     9.319730     9.319730   \n",
            "24 2023-11-18   9.317698    2.763006   16.309513     9.317698     9.317698   \n",
            "25 2023-11-19   9.315666    3.011727   16.305435     9.315666     9.315666   \n",
            "26 2023-11-20   9.313634    2.686066   15.736324     9.313634     9.313634   \n",
            "27 2023-11-21   9.311602    1.981747   16.592730     9.311602     9.311602   \n",
            "28 2023-11-22   9.309570    2.063782   16.145968     9.309570     9.309570   \n",
            "29 2023-11-23   9.307538    2.667514   16.187890     9.307538     9.307538   \n",
            "30 2023-11-24   9.305506    2.039841   16.091313     9.305506     9.305506   \n",
            "31 2023-11-25   9.303474    1.924140   16.639947     9.303474     9.303474   \n",
            "32 2023-11-26   9.301442    2.492594   16.184793     9.301442     9.301442   \n",
            "33 2023-11-27   9.299410    2.964482   16.097803     9.299410     9.299410   \n",
            "34 2023-11-28   9.297378    2.830309   16.663728     9.297378     9.297378   \n",
            "35 2023-11-29   9.295346    2.957300   15.789819     9.295346     9.295346   \n",
            "36 2023-11-30   9.293314    2.818852   16.101838     9.293314     9.293314   \n",
            "37 2023-12-01   9.291283    2.247608   16.154941     9.291283     9.291283   \n",
            "38 2023-12-02   9.289251    2.552330   16.330416     9.289251     9.289251   \n",
            "\n",
            "    additive_terms  additive_terms_lower  additive_terms_upper  \\\n",
            "0              0.0                   0.0                   0.0   \n",
            "1              0.0                   0.0                   0.0   \n",
            "2              0.0                   0.0                   0.0   \n",
            "3              0.0                   0.0                   0.0   \n",
            "4              0.0                   0.0                   0.0   \n",
            "5              0.0                   0.0                   0.0   \n",
            "6              0.0                   0.0                   0.0   \n",
            "7              0.0                   0.0                   0.0   \n",
            "8              0.0                   0.0                   0.0   \n",
            "9              0.0                   0.0                   0.0   \n",
            "10             0.0                   0.0                   0.0   \n",
            "11             0.0                   0.0                   0.0   \n",
            "12             0.0                   0.0                   0.0   \n",
            "13             0.0                   0.0                   0.0   \n",
            "14             0.0                   0.0                   0.0   \n",
            "15             0.0                   0.0                   0.0   \n",
            "16             0.0                   0.0                   0.0   \n",
            "17             0.0                   0.0                   0.0   \n",
            "18             0.0                   0.0                   0.0   \n",
            "19             0.0                   0.0                   0.0   \n",
            "20             0.0                   0.0                   0.0   \n",
            "21             0.0                   0.0                   0.0   \n",
            "22             0.0                   0.0                   0.0   \n",
            "23             0.0                   0.0                   0.0   \n",
            "24             0.0                   0.0                   0.0   \n",
            "25             0.0                   0.0                   0.0   \n",
            "26             0.0                   0.0                   0.0   \n",
            "27             0.0                   0.0                   0.0   \n",
            "28             0.0                   0.0                   0.0   \n",
            "29             0.0                   0.0                   0.0   \n",
            "30             0.0                   0.0                   0.0   \n",
            "31             0.0                   0.0                   0.0   \n",
            "32             0.0                   0.0                   0.0   \n",
            "33             0.0                   0.0                   0.0   \n",
            "34             0.0                   0.0                   0.0   \n",
            "35             0.0                   0.0                   0.0   \n",
            "36             0.0                   0.0                   0.0   \n",
            "37             0.0                   0.0                   0.0   \n",
            "38             0.0                   0.0                   0.0   \n",
            "\n",
            "    multiplicative_terms  multiplicative_terms_lower  \\\n",
            "0                    0.0                         0.0   \n",
            "1                    0.0                         0.0   \n",
            "2                    0.0                         0.0   \n",
            "3                    0.0                         0.0   \n",
            "4                    0.0                         0.0   \n",
            "5                    0.0                         0.0   \n",
            "6                    0.0                         0.0   \n",
            "7                    0.0                         0.0   \n",
            "8                    0.0                         0.0   \n",
            "9                    0.0                         0.0   \n",
            "10                   0.0                         0.0   \n",
            "11                   0.0                         0.0   \n",
            "12                   0.0                         0.0   \n",
            "13                   0.0                         0.0   \n",
            "14                   0.0                         0.0   \n",
            "15                   0.0                         0.0   \n",
            "16                   0.0                         0.0   \n",
            "17                   0.0                         0.0   \n",
            "18                   0.0                         0.0   \n",
            "19                   0.0                         0.0   \n",
            "20                   0.0                         0.0   \n",
            "21                   0.0                         0.0   \n",
            "22                   0.0                         0.0   \n",
            "23                   0.0                         0.0   \n",
            "24                   0.0                         0.0   \n",
            "25                   0.0                         0.0   \n",
            "26                   0.0                         0.0   \n",
            "27                   0.0                         0.0   \n",
            "28                   0.0                         0.0   \n",
            "29                   0.0                         0.0   \n",
            "30                   0.0                         0.0   \n",
            "31                   0.0                         0.0   \n",
            "32                   0.0                         0.0   \n",
            "33                   0.0                         0.0   \n",
            "34                   0.0                         0.0   \n",
            "35                   0.0                         0.0   \n",
            "36                   0.0                         0.0   \n",
            "37                   0.0                         0.0   \n",
            "38                   0.0                         0.0   \n",
            "\n",
            "    multiplicative_terms_upper       yhat  \n",
            "0                          0.0  10.689282  \n",
            "1                          0.0  10.612067  \n",
            "2                          0.0  10.591747  \n",
            "3                          0.0  10.549076  \n",
            "4                          0.0  10.396677  \n",
            "5                          0.0  10.374326  \n",
            "6                          0.0  10.266631  \n",
            "7                          0.0  10.160968  \n",
            "8                          0.0   9.350210  \n",
            "9                          0.0   9.348178  \n",
            "10                         0.0   9.346146  \n",
            "11                         0.0   9.344114  \n",
            "12                         0.0   9.342082  \n",
            "13                         0.0   9.340050  \n",
            "14                         0.0   9.338018  \n",
            "15                         0.0   9.335986  \n",
            "16                         0.0   9.333954  \n",
            "17                         0.0   9.331922  \n",
            "18                         0.0   9.329890  \n",
            "19                         0.0   9.327858  \n",
            "20                         0.0   9.325826  \n",
            "21                         0.0   9.323794  \n",
            "22                         0.0   9.321762  \n",
            "23                         0.0   9.319730  \n",
            "24                         0.0   9.317698  \n",
            "25                         0.0   9.315666  \n",
            "26                         0.0   9.313634  \n",
            "27                         0.0   9.311602  \n",
            "28                         0.0   9.309570  \n",
            "29                         0.0   9.307538  \n",
            "30                         0.0   9.305506  \n",
            "31                         0.0   9.303474  \n",
            "32                         0.0   9.301442  \n",
            "33                         0.0   9.299410  \n",
            "34                         0.0   9.297378  \n",
            "35                         0.0   9.295346  \n",
            "36                         0.0   9.293314  \n",
            "37                         0.0   9.291283  \n",
            "38                         0.0   9.289251  \n"
          ]
        },
        {
          "output_type": "display_data",
          "data": {
            "text/plain": [
              "<Figure size 1000x600 with 1 Axes>"
            ],
            "image/png": "[encoded data removed]"
          },
          "metadata": {}
        }
      ]
    },
    {
      "cell_type": "code",
      "source": [
        "component=model.plot_components(forecast)"
      ],
      "metadata": {
        "colab": {
          "base_uri": "https://localhost:8080/",
          "height": 306
        },
        "id": "yqBCJ_F0YB2s",
        "outputId": "76994814-218f-4060-8c29-194dcee9be3b"
      },
      "execution_count": 408,
      "outputs": [
        {
          "output_type": "display_data",
          "data": {
            "text/plain": [
              "<Figure size 900x300 with 1 Axes>"
            ],
            "image/png": "[encoded data removed]"
          },
          "metadata": {}
        }
      ]
    },
    {
      "cell_type": "code",
      "source": [
        " model1=Prophet(interval_width=0.95)"
      ],
      "metadata": {
        "id": "Io61ZqqIYHGP"
      },
      "execution_count": 409,
      "outputs": []
    },
    {
      "cell_type": "code",
      "source": [
        " model1.fit(population)"
      ],
      "metadata": {
        "colab": {
          "base_uri": "https://localhost:8080/"
        },
        "id": "rARjHmW3YLQ_",
        "outputId": "82d3d4c9-1ff0-499f-83de-08cd2473dc25"
      },
      "execution_count": 410,
      "outputs": [
        {
          "output_type": "stream",
          "name": "stderr",
          "text": [
            "INFO:prophet:Disabling yearly seasonality. Run prophet with yearly_seasonality=True to override this.\n",
            "INFO:prophet:Disabling weekly seasonality. Run prophet with weekly_seasonality=True to override this.\n",
            "INFO:prophet:Disabling daily seasonality. Run prophet with daily_seasonality=True to override this.\n",
            "INFO:prophet:n_changepoints greater than number of observations. Using 6.\n",
            "DEBUG:cmdstanpy:input tempfile: /tmp/tmpqki2d_87/abfymdll.json\n",
            "DEBUG:cmdstanpy:input tempfile: /tmp/tmpqki2d_87/nsey8c3n.json\n",
            "DEBUG:cmdstanpy:idx 0\n",
            "DEBUG:cmdstanpy:running CmdStan, num_threads: None\n",
            "DEBUG:cmdstanpy:CmdStan args: ['/usr/local/lib/python3.9/dist-packages/prophet/stan_model/prophet_model.bin', 'random', 'seed=26256', 'data', 'file=/tmp/tmpqki2d_87/abfymdll.json', 'init=/tmp/tmpqki2d_87/nsey8c3n.json', 'output', 'file=/tmp/tmpqki2d_87/prophet_modeldxvv89di/prophet_model-20230421071729.csv', 'method=optimize', 'algorithm=newton', 'iter=10000']\n",
            "07:17:29 - cmdstanpy - INFO - Chain [1] start processing\n",
            "INFO:cmdstanpy:Chain [1] start processing\n",
            "07:17:29 - cmdstanpy - INFO - Chain [1] done processing\n",
            "INFO:cmdstanpy:Chain [1] done processing\n"
          ]
        },
        {
          "output_type": "execute_result",
          "data": {
            "text/plain": [
              "<prophet.forecaster.Prophet at 0x7f25f011be50>"
            ]
          },
          "metadata": {},
          "execution_count": 410
        }
      ]
    },
    {
      "cell_type": "code",
      "source": [
        "future_dates=model1.make_future_dataframe(periods=10)"
      ],
      "metadata": {
        "id": "67_BflY9YPPb"
      },
      "execution_count": 411,
      "outputs": []
    },
    {
      "cell_type": "code",
      "source": [
        "forecasting=model.predict(future_dates)\n",
        "ploting=model.plot(forecasting)"
      ],
      "metadata": {
        "colab": {
          "base_uri": "https://localhost:8080/",
          "height": 607
        },
        "id": "v-fmEXsSYSJK",
        "outputId": "b7c34a20-86b7-46db-e5fb-856fa530ce97"
      },
      "execution_count": 412,
      "outputs": [
        {
          "output_type": "display_data",
          "data": {
            "text/plain": [
              "<Figure size 1000x600 with 1 Axes>"
            ],
            "image/png": "[encoded data removed]"
          },
          "metadata": {}
        }
      ]
    },
    {
      "cell_type": "code",
      "source": [
        "week=model1.plot_components(forecasting)\n",
        "print(forecasting)"
      ],
      "metadata": {
        "colab": {
          "base_uri": "https://localhost:8080/",
          "height": 1000
        },
        "id": "0s9s1BwYYVNB",
        "outputId": "299eae6a-1ec4-4799-be9e-b817064a27b1"
      },
      "execution_count": 413,
      "outputs": [
        {
          "output_type": "stream",
          "name": "stdout",
          "text": [
            "           ds      trend  yhat_lower  yhat_upper  trend_lower  trend_upper  \\\n",
            "0  2022-01-12  10.689282    3.671417   17.869507    10.689282    10.689282   \n",
            "1  2022-02-19  10.612067    3.753088   17.744841    10.612067    10.612067   \n",
            "2  2022-03-01  10.591747    3.371644   17.242737    10.591747    10.591747   \n",
            "3  2022-03-22  10.549076    3.424022   17.750026    10.549076    10.549076   \n",
            "4  2022-06-05  10.396677    3.489368   16.985605    10.396677    10.396677   \n",
            "5  2022-06-16  10.374326    3.262142   16.964725    10.374326    10.374326   \n",
            "6  2022-08-08  10.266631    3.043414   17.386528    10.266631    10.266631   \n",
            "7  2022-09-29  10.160968    3.790684   16.746766    10.160968    10.160968   \n",
            "8  2023-11-02   9.350210    2.663893   15.997687     9.350210     9.350210   \n",
            "9  2023-11-03   9.348178    1.642886   16.183125     9.348178     9.348178   \n",
            "10 2023-11-04   9.346146    2.157982   16.760767     9.346146     9.346146   \n",
            "11 2023-11-05   9.344114    2.494486   16.074332     9.344114     9.344114   \n",
            "12 2023-11-06   9.342082    2.756094   16.008257     9.342082     9.342082   \n",
            "13 2023-11-07   9.340050    2.339090   16.515619     9.340050     9.340050   \n",
            "14 2023-11-08   9.338018    2.667660   16.681538     9.338018     9.338018   \n",
            "15 2023-11-09   9.335986    2.588063   16.430272     9.335986     9.335986   \n",
            "16 2023-11-10   9.333954    2.326422   16.367238     9.333954     9.333954   \n",
            "17 2023-11-11   9.331922    2.413580   16.091738     9.331922     9.331922   \n",
            "18 2023-11-12   9.329890    2.408076   16.221926     9.329890     9.329890   \n",
            "\n",
            "    additive_terms  additive_terms_lower  additive_terms_upper  \\\n",
            "0              0.0                   0.0                   0.0   \n",
            "1              0.0                   0.0                   0.0   \n",
            "2              0.0                   0.0                   0.0   \n",
            "3              0.0                   0.0                   0.0   \n",
            "4              0.0                   0.0                   0.0   \n",
            "5              0.0                   0.0                   0.0   \n",
            "6              0.0                   0.0                   0.0   \n",
            "7              0.0                   0.0                   0.0   \n",
            "8              0.0                   0.0                   0.0   \n",
            "9              0.0                   0.0                   0.0   \n",
            "10             0.0                   0.0                   0.0   \n",
            "11             0.0                   0.0                   0.0   \n",
            "12             0.0                   0.0                   0.0   \n",
            "13             0.0                   0.0                   0.0   \n",
            "14             0.0                   0.0                   0.0   \n",
            "15             0.0                   0.0                   0.0   \n",
            "16             0.0                   0.0                   0.0   \n",
            "17             0.0                   0.0                   0.0   \n",
            "18             0.0                   0.0                   0.0   \n",
            "\n",
            "    multiplicative_terms  multiplicative_terms_lower  \\\n",
            "0                    0.0                         0.0   \n",
            "1                    0.0                         0.0   \n",
            "2                    0.0                         0.0   \n",
            "3                    0.0                         0.0   \n",
            "4                    0.0                         0.0   \n",
            "5                    0.0                         0.0   \n",
            "6                    0.0                         0.0   \n",
            "7                    0.0                         0.0   \n",
            "8                    0.0                         0.0   \n",
            "9                    0.0                         0.0   \n",
            "10                   0.0                         0.0   \n",
            "11                   0.0                         0.0   \n",
            "12                   0.0                         0.0   \n",
            "13                   0.0                         0.0   \n",
            "14                   0.0                         0.0   \n",
            "15                   0.0                         0.0   \n",
            "16                   0.0                         0.0   \n",
            "17                   0.0                         0.0   \n",
            "18                   0.0                         0.0   \n",
            "\n",
            "    multiplicative_terms_upper       yhat  \n",
            "0                          0.0  10.689282  \n",
            "1                          0.0  10.612067  \n",
            "2                          0.0  10.591747  \n",
            "3                          0.0  10.549076  \n",
            "4                          0.0  10.396677  \n",
            "5                          0.0  10.374326  \n",
            "6                          0.0  10.266631  \n",
            "7                          0.0  10.160968  \n",
            "8                          0.0   9.350210  \n",
            "9                          0.0   9.348178  \n",
            "10                         0.0   9.346146  \n",
            "11                         0.0   9.344114  \n",
            "12                         0.0   9.342082  \n",
            "13                         0.0   9.340050  \n",
            "14                         0.0   9.338018  \n",
            "15                         0.0   9.335986  \n",
            "16                         0.0   9.333954  \n",
            "17                         0.0   9.331922  \n",
            "18                         0.0   9.329890  \n"
          ]
        },
        {
          "output_type": "display_data",
          "data": {
            "text/plain": [
              "<Figure size 900x300 with 1 Axes>"
            ],
            "image/png": "[encoded data removed]"
          },
          "metadata": {}
        }
      ]
    }
  ]
}