{
  "nbformat": 4,
  "nbformat_minor": 0,
  "metadata": {
    "colab": {
      "provenance": []
    },
    "kernelspec": {
      "name": "python3",
      "display_name": "Python 3"
    },
    "language_info": {
      "name": "python"
    }
  },
  "cells": [
    {
      "cell_type": "code",
      "execution_count": 170,
      "metadata": {
        "id": "vxNjP86FV9_N"
      },
      "outputs": [],
      "source": [
        "import pandas as pd\n",
        "import numpy as np\n",
        "import matplotlib.pyplot as plt\n",
        "import seaborn as sns\n",
        "import plotly.express as px ## World Map"
      ]
    },
    {
      "cell_type": "code",
      "source": [
        "df=pd.read_csv(\"medical home.csv\")\n",
        "df.head()"
      ],
      "metadata": {
        "colab": {
          "base_uri": "https://localhost:8080/",
          "height": 206
        },
        "id": "uXM32LzgW-6h",
        "outputId": "e9ad6725-f0d1-4b8f-dddf-5e5d9aa7e355"
      },
      "execution_count": 171,
      "outputs": [
        {
          "output_type": "execute_result",
          "data": {
            "text/plain": [
              "         date  population\n",
              "0  19-01-2022          10\n",
              "1  02-02-2022           6\n",
              "2  22-04-2022           7\n",
              "3  21-06-2022          11\n",
              "4  01-09-2022           9"
            ],
            "text/html": [
              "\n",
              "  <div id=\"df-fad5e11a-6938-4cc8-b839-fcc3144371dc\">\n",
              "    <div class=\"colab-df-container\">\n",
              "      <div>\n",
              "<style scoped>\n",
              "    .dataframe tbody tr th:only-of-type {\n",
              "        vertical-align: middle;\n",
              "    }\n",
              "\n",
              "    .dataframe tbody tr th {\n",
              "        vertical-align: top;\n",
              "    }\n",
              "\n",
              "    .dataframe thead th {\n",
              "        text-align: right;\n",
              "    }\n",
              "</style>\n",
              "<table border=\"1\" class=\"dataframe\">\n",
              "  <thead>\n",
              "    <tr style=\"text-align: right;\">\n",
              "      <th></th>\n",
              "      <th>date</th>\n",
              "      <th>population</th>\n",
              "    </tr>\n",
              "  </thead>\n",
              "  <tbody>\n",
              "    <tr>\n",
              "      <th>0</th>\n",
              "      <td>19-01-2022</td>\n",
              "      <td>10</td>\n",
              "    </tr>\n",
              "    <tr>\n",
              "      <th>1</th>\n",
              "      <td>02-02-2022</td>\n",
              "      <td>6</td>\n",
              "    </tr>\n",
              "    <tr>\n",
              "      <th>2</th>\n",
              "      <td>22-04-2022</td>\n",
              "      <td>7</td>\n",
              "    </tr>\n",
              "    <tr>\n",
              "      <th>3</th>\n",
              "      <td>21-06-2022</td>\n",
              "      <td>11</td>\n",
              "    </tr>\n",
              "    <tr>\n",
              "      <th>4</th>\n",
              "      <td>01-09-2022</td>\n",
              "      <td>9</td>\n",
              "    </tr>\n",
              "  </tbody>\n",
              "</table>\n",
              "</div>\n",
              "      <button class=\"colab-df-convert\" onclick=\"convertToInteractive('df-fad5e11a-6938-4cc8-b839-fcc3144371dc')\"\n",
              "              title=\"Convert this dataframe to an interactive table.\"\n",
              "              style=\"display:none;\">\n",
              "        \n",
              "  <svg xmlns=\"http://www.w3.org/2000/svg\" height=\"24px\"viewBox=\"0 0 24 24\"\n",
              "       width=\"24px\">\n",
              "    <path d=\"M0 0h24v24H0V0z\" fill=\"none\"/>\n",
              "    <path d=\"M18.56 5.44l.94 2.06.94-2.06 2.06-.94-2.06-.94-.94-2.06-.94 2.06-2.06.94zm-11 1L8.5 8.5l.94-2.06 2.06-.94-2.06-.94L8.5 2.5l-.94 2.06-2.06.94zm10 10l.94 2.06.94-2.06 2.06-.94-2.06-.94-.94-2.06-.94 2.06-2.06.94z\"/><path d=\"M17.41 7.96l-1.37-1.37c-.4-.4-.92-.59-1.43-.59-.52 0-1.04.2-1.43.59L10.3 9.45l-7.72 7.72c-.78.78-.78 2.05 0 2.83L4 21.41c.39.39.9.59 1.41.59.51 0 1.02-.2 1.41-.59l7.78-7.78 2.81-2.81c.8-.78.8-2.07 0-2.86zM5.41 20L4 18.59l7.72-7.72 1.47 1.35L5.41 20z\"/>\n",
              "  </svg>\n",
              "      </button>\n",
              "      \n",
              "  <style>\n",
              "    .colab-df-container {\n",
              "      display:flex;\n",
              "      flex-wrap:wrap;\n",
              "      gap: 12px;\n",
              "    }\n",
              "\n",
              "    .colab-df-convert {\n",
              "      background-color: #E8F0FE;\n",
              "      border: none;\n",
              "      border-radius: 50%;\n",
              "      cursor: pointer;\n",
              "      display: none;\n",
              "      fill: #1967D2;\n",
              "      height: 32px;\n",
              "      padding: 0 0 0 0;\n",
              "      width: 32px;\n",
              "    }\n",
              "\n",
              "    .colab-df-convert:hover {\n",
              "      background-color: #E2EBFA;\n",
              "      box-shadow: 0px 1px 2px rgba(60, 64, 67, 0.3), 0px 1px 3px 1px rgba(60, 64, 67, 0.15);\n",
              "      fill: #174EA6;\n",
              "    }\n",
              "\n",
              "    [theme=dark] .colab-df-convert {\n",
              "      background-color: #3B4455;\n",
              "      fill: #D2E3FC;\n",
              "    }\n",
              "\n",
              "    [theme=dark] .colab-df-convert:hover {\n",
              "      background-color: #434B5C;\n",
              "      box-shadow: 0px 1px 3px 1px rgba(0, 0, 0, 0.15);\n",
              "      filter: drop-shadow(0px 1px 2px rgba(0, 0, 0, 0.3));\n",
              "      fill: #FFFFFF;\n",
              "    }\n",
              "  </style>\n",
              "\n",
              "      <script>\n",
              "        const buttonEl =\n",
              "          document.querySelector('#df-fad5e11a-6938-4cc8-b839-fcc3144371dc button.colab-df-convert');\n",
              "        buttonEl.style.display =\n",
              "          google.colab.kernel.accessAllowed ? 'block' : 'none';\n",
              "\n",
              "        async function convertToInteractive(key) {\n",
              "          const element = document.querySelector('#df-fad5e11a-6938-4cc8-b839-fcc3144371dc');\n",
              "          const dataTable =\n",
              "            await google.colab.kernel.invokeFunction('convertToInteractive',\n",
              "                                                     [key], {});\n",
              "          if (!dataTable) return;\n",
              "\n",
              "          const docLinkHtml = 'Like what you see? Visit the ' +\n",
              "            '<a target=\"_blank\" href=https://colab.research.google.com/notebooks/data_table.ipynb>data table notebook</a>'\n",
              "            + ' to learn more about interactive tables.';\n",
              "          element.innerHTML = '';\n",
              "          dataTable['output_type'] = 'display_data';\n",
              "          await google.colab.output.renderOutput(dataTable, element);\n",
              "          const docLink = document.createElement('div');\n",
              "          docLink.innerHTML = docLinkHtml;\n",
              "          element.appendChild(docLink);\n",
              "        }\n",
              "      </script>\n",
              "    </div>\n",
              "  </div>\n",
              "  "
            ]
          },
          "metadata": {},
          "execution_count": 171
        }
      ]
    },
    {
      "cell_type": "code",
      "source": [
        "df.info()"
      ],
      "metadata": {
        "colab": {
          "base_uri": "https://localhost:8080/"
        },
        "id": "2s2csG0kXDTy",
        "outputId": "0bb245a7-e6be-45a2-f6a2-95daf72573bc"
      },
      "execution_count": 172,
      "outputs": [
        {
          "output_type": "stream",
          "name": "stdout",
          "text": [
            "<class 'pandas.core.frame.DataFrame'>\n",
            "RangeIndex: 9 entries, 0 to 8\n",
            "Data columns (total 2 columns):\n",
            " #   Column      Non-Null Count  Dtype \n",
            "---  ------      --------------  ----- \n",
            " 0   date        9 non-null      object\n",
            " 1   population  9 non-null      int64 \n",
            "dtypes: int64(1), object(1)\n",
            "memory usage: 272.0+ bytes\n"
          ]
        }
      ]
    },
    {
      "cell_type": "code",
      "source": [
        "df.isnull().sum()"
      ],
      "metadata": {
        "colab": {
          "base_uri": "https://localhost:8080/"
        },
        "id": "5jwyIyy-XP2G",
        "outputId": "0e1c017c-cf1e-40fc-d5e5-3332476ef7b0"
      },
      "execution_count": 173,
      "outputs": [
        {
          "output_type": "execute_result",
          "data": {
            "text/plain": [
              "date          0\n",
              "population    0\n",
              "dtype: int64"
            ]
          },
          "metadata": {},
          "execution_count": 173
        }
      ]
    },
    {
      "cell_type": "code",
      "source": [
        "df[\"date\"]= pd.to_datetime(df[\"date\"])"
      ],
      "metadata": {
        "colab": {
          "base_uri": "https://localhost:8080/"
        },
        "id": "fF-EMwKoXTAl",
        "outputId": "10ba80c4-d4de-4ade-b092-f33c22d69be7"
      },
      "execution_count": 174,
      "outputs": [
        {
          "output_type": "stream",
          "name": "stderr",
          "text": [
            "<ipython-input-174-082167ba8dcc>:1: UserWarning: Parsing dates in DD/MM/YYYY format when dayfirst=False (the default) was specified. This may lead to inconsistently parsed dates! Specify a format to ensure consistent parsing.\n",
            "  df[\"date\"]= pd.to_datetime(df[\"date\"])\n"
          ]
        }
      ]
    },
    {
      "cell_type": "code",
      "source": [
        " !pip install prophet"
      ],
      "metadata": {
        "colab": {
          "base_uri": "https://localhost:8080/"
        },
        "id": "31WHiRxDXd7z",
        "outputId": "c590c32e-45ce-4ea5-a169-0d432d0066b3"
      },
      "execution_count": 175,
      "outputs": [
        {
          "output_type": "stream",
          "name": "stdout",
          "text": [
            "Looking in indexes: https://pypi.org/simple, https://us-python.pkg.dev/colab-wheels/public/simple/\n",
            "Requirement already satisfied: prophet in /usr/local/lib/python3.9/dist-packages (1.1.2)\n",
            "Requirement already satisfied: convertdate>=2.1.2 in /usr/local/lib/python3.9/dist-packages (from prophet) (2.4.0)\n",
            "Requirement already satisfied: cmdstanpy>=1.0.4 in /usr/local/lib/python3.9/dist-packages (from prophet) (1.1.0)\n",
            "Requirement already satisfied: holidays>=0.14.2 in /usr/local/lib/python3.9/dist-packages (from prophet) (0.22)\n",
            "Requirement already satisfied: tqdm>=4.36.1 in /usr/local/lib/python3.9/dist-packages (from prophet) (4.65.0)\n",
            "Requirement already satisfied: LunarCalendar>=0.0.9 in /usr/local/lib/python3.9/dist-packages (from prophet) (0.0.9)\n",
            "Requirement already satisfied: numpy>=1.15.4 in /usr/local/lib/python3.9/dist-packages (from prophet) (1.22.4)\n",
            "Requirement already satisfied: python-dateutil>=2.8.0 in /usr/local/lib/python3.9/dist-packages (from prophet) (2.8.2)\n",
            "Requirement already satisfied: matplotlib>=2.0.0 in /usr/local/lib/python3.9/dist-packages (from prophet) (3.7.1)\n",
            "Requirement already satisfied: pandas>=1.0.4 in /usr/local/lib/python3.9/dist-packages (from prophet) (1.5.3)\n",
            "Requirement already satisfied: pymeeus<=1,>=0.3.13 in /usr/local/lib/python3.9/dist-packages (from convertdate>=2.1.2->prophet) (0.5.12)\n",
            "Requirement already satisfied: hijri-converter in /usr/local/lib/python3.9/dist-packages (from holidays>=0.14.2->prophet) (2.2.4)\n",
            "Requirement already satisfied: korean-lunar-calendar in /usr/local/lib/python3.9/dist-packages (from holidays>=0.14.2->prophet) (0.3.1)\n",
            "Requirement already satisfied: ephem>=3.7.5.3 in /usr/local/lib/python3.9/dist-packages (from LunarCalendar>=0.0.9->prophet) (4.1.4)\n",
            "Requirement already satisfied: pytz in /usr/local/lib/python3.9/dist-packages (from LunarCalendar>=0.0.9->prophet) (2022.7.1)\n",
            "Requirement already satisfied: pyparsing>=2.3.1 in /usr/local/lib/python3.9/dist-packages (from matplotlib>=2.0.0->prophet) (3.0.9)\n",
            "Requirement already satisfied: cycler>=0.10 in /usr/local/lib/python3.9/dist-packages (from matplotlib>=2.0.0->prophet) (0.11.0)\n",
            "Requirement already satisfied: contourpy>=1.0.1 in /usr/local/lib/python3.9/dist-packages (from matplotlib>=2.0.0->prophet) (1.0.7)\n",
            "Requirement already satisfied: pillow>=6.2.0 in /usr/local/lib/python3.9/dist-packages (from matplotlib>=2.0.0->prophet) (8.4.0)\n",
            "Requirement already satisfied: packaging>=20.0 in /usr/local/lib/python3.9/dist-packages (from matplotlib>=2.0.0->prophet) (23.1)\n",
            "Requirement already satisfied: kiwisolver>=1.0.1 in /usr/local/lib/python3.9/dist-packages (from matplotlib>=2.0.0->prophet) (1.4.4)\n",
            "Requirement already satisfied: importlib-resources>=3.2.0 in /usr/local/lib/python3.9/dist-packages (from matplotlib>=2.0.0->prophet) (5.12.0)\n",
            "Requirement already satisfied: fonttools>=4.22.0 in /usr/local/lib/python3.9/dist-packages (from matplotlib>=2.0.0->prophet) (4.39.3)\n",
            "Requirement already satisfied: six>=1.5 in /usr/local/lib/python3.9/dist-packages (from python-dateutil>=2.8.0->prophet) (1.16.0)\n",
            "Requirement already satisfied: zipp>=3.1.0 in /usr/local/lib/python3.9/dist-packages (from importlib-resources>=3.2.0->matplotlib>=2.0.0->prophet) (3.15.0)\n"
          ]
        }
      ]
    },
    {
      "cell_type": "code",
      "source": [
        " from prophet import Prophet"
      ],
      "metadata": {
        "id": "6bfO-j4nXkYz"
      },
      "execution_count": 176,
      "outputs": []
    },
    {
      "cell_type": "code",
      "source": [
        "population=df.groupby('date')['population'].sum().reset_index()"
      ],
      "metadata": {
        "id": "1UAH9U7TXoRK"
      },
      "execution_count": 177,
      "outputs": []
    },
    {
      "cell_type": "code",
      "source": [
        "population.rename(columns={\"date\":\"ds\",\"population\":\"y\"},inplace=True)"
      ],
      "metadata": {
        "id": "9uwuHY8FXrIV"
      },
      "execution_count": 178,
      "outputs": []
    },
    {
      "cell_type": "code",
      "source": [
        "model=Prophet(interval_width=0.95)"
      ],
      "metadata": {
        "id": "gl9IDqcEXuFm"
      },
      "execution_count": 179,
      "outputs": []
    },
    {
      "cell_type": "code",
      "source": [
        "model.fit(population)"
      ],
      "metadata": {
        "colab": {
          "base_uri": "https://localhost:8080/"
        },
        "id": "KD1ezWu6XxNv",
        "outputId": "52b6e9ec-aadb-4339-a15f-10af6ef3f031"
      },
      "execution_count": 180,
      "outputs": [
        {
          "output_type": "stream",
          "name": "stderr",
          "text": [
            "INFO:prophet:Disabling yearly seasonality. Run prophet with yearly_seasonality=True to override this.\n",
            "INFO:prophet:Disabling weekly seasonality. Run prophet with weekly_seasonality=True to override this.\n",
            "INFO:prophet:Disabling daily seasonality. Run prophet with daily_seasonality=True to override this.\n",
            "INFO:prophet:n_changepoints greater than number of observations. Using 6.\n",
            "DEBUG:cmdstanpy:input tempfile: /tmp/tmpqki2d_87/en61jzf2.json\n",
            "DEBUG:cmdstanpy:input tempfile: /tmp/tmpqki2d_87/ceg4mblt.json\n",
            "DEBUG:cmdstanpy:idx 0\n",
            "DEBUG:cmdstanpy:running CmdStan, num_threads: None\n",
            "DEBUG:cmdstanpy:CmdStan args: ['/usr/local/lib/python3.9/dist-packages/prophet/stan_model/prophet_model.bin', 'random', 'seed=96415', 'data', 'file=/tmp/tmpqki2d_87/en61jzf2.json', 'init=/tmp/tmpqki2d_87/ceg4mblt.json', 'output', 'file=/tmp/tmpqki2d_87/prophet_modelu_gm9y3u/prophet_model-20230421063323.csv', 'method=optimize', 'algorithm=newton', 'iter=10000']\n",
            "06:33:23 - cmdstanpy - INFO - Chain [1] start processing\n",
            "INFO:cmdstanpy:Chain [1] start processing\n",
            "06:33:23 - cmdstanpy - INFO - Chain [1] done processing\n",
            "INFO:cmdstanpy:Chain [1] done processing\n"
          ]
        },
        {
          "output_type": "execute_result",
          "data": {
            "text/plain": [
              "<prophet.forecaster.Prophet at 0x7f25f03c77c0>"
            ]
          },
          "metadata": {},
          "execution_count": 180
        }
      ]
    },
    {
      "cell_type": "code",
      "source": [
        "future_dates=model.make_future_dataframe(periods=30)"
      ],
      "metadata": {
        "id": "BsbWv5eaX0wi"
      },
      "execution_count": 181,
      "outputs": []
    },
    {
      "cell_type": "code",
      "source": [
        "forecast=model.predict(future_dates)"
      ],
      "metadata": {
        "id": "O8D1cTF2X8K6"
      },
      "execution_count": 182,
      "outputs": []
    },
    {
      "cell_type": "code",
      "source": [
        "model.plot(forecast)\n",
        "print(forecast)"
      ],
      "metadata": {
        "colab": {
          "base_uri": "https://localhost:8080/",
          "height": 1000
        },
        "id": "Rz7BlQ5QX-py",
        "outputId": "1fb084ab-01ea-4048-c096-40e914675c45"
      },
      "execution_count": 183,
      "outputs": [
        {
          "output_type": "stream",
          "name": "stdout",
          "text": [
            "           ds      trend  yhat_lower  yhat_upper  trend_lower  trend_upper  \\\n",
            "0  2022-01-09   8.241398    5.388906   11.119265     8.241398     8.241398   \n",
            "1  2022-01-19   8.282459    5.287461   11.323065     8.282459     8.282459   \n",
            "2  2022-02-02   8.339943    5.622501   11.296086     8.339943     8.339943   \n",
            "3  2022-04-22   8.664321    5.725114   11.444305     8.664321     8.664321   \n",
            "4  2022-06-21   8.910685    6.240219   11.863136     8.910685     8.910685   \n",
            "5  2022-09-11   9.247381    6.361698   12.393839     9.247381     9.247381   \n",
            "6  2022-09-29   9.321290    6.491009   11.944538     9.321290     9.321290   \n",
            "7  2022-12-19   9.653880    6.729711   12.645803     9.653880     9.653880   \n",
            "8  2023-06-01  10.327273    7.481713   13.214293    10.327273    10.327273   \n",
            "9  2023-06-02  10.331379    7.362446   13.224040    10.331379    10.331379   \n",
            "10 2023-06-03  10.335485    7.445528   13.394804    10.335485    10.335485   \n",
            "11 2023-06-04  10.339591    7.543633   13.151615    10.339591    10.339591   \n",
            "12 2023-06-05  10.343697    7.352635   13.396034    10.343697    10.343697   \n",
            "13 2023-06-06  10.347803    7.499438   13.110689    10.347803    10.347803   \n",
            "14 2023-06-07  10.351909    7.495625   13.294997    10.351909    10.351909   \n",
            "15 2023-06-08  10.356015    7.482524   13.057793    10.356015    10.356015   \n",
            "16 2023-06-09  10.360121    7.645687   13.035228    10.360121    10.360121   \n",
            "17 2023-06-10  10.364227    7.591965   13.243393    10.364227    10.364227   \n",
            "18 2023-06-11  10.368334    7.581066   12.971465    10.368334    10.368334   \n",
            "19 2023-06-12  10.372440    7.496970   13.432302    10.372440    10.372440   \n",
            "20 2023-06-13  10.376546    7.470825   13.297203    10.376546    10.376546   \n",
            "21 2023-06-14  10.380652    7.384261   13.229489    10.380652    10.380652   \n",
            "22 2023-06-15  10.384758    7.446739   13.201624    10.384758    10.384758   \n",
            "23 2023-06-16  10.388864    7.481477   13.266422    10.388864    10.388864   \n",
            "24 2023-06-17  10.392970    7.645819   13.310805    10.392970    10.392970   \n",
            "25 2023-06-18  10.397076    7.447484   13.627119    10.397076    10.397076   \n",
            "26 2023-06-19  10.401182    7.476259   13.239436    10.401182    10.401182   \n",
            "27 2023-06-20  10.405288    7.584000   13.343866    10.405288    10.405288   \n",
            "28 2023-06-21  10.409394    7.310650   13.281256    10.409394    10.409394   \n",
            "29 2023-06-22  10.413500    7.427727   13.314589    10.413500    10.413500   \n",
            "30 2023-06-23  10.417606    7.533724   13.115263    10.417606    10.417606   \n",
            "31 2023-06-24  10.421712    7.518158   13.171773    10.421712    10.421712   \n",
            "32 2023-06-25  10.425818    7.624963   13.153040    10.425818    10.425818   \n",
            "33 2023-06-26  10.429924    7.621758   13.499816    10.429924    10.429924   \n",
            "34 2023-06-27  10.434030    7.583007   13.263149    10.434030    10.434030   \n",
            "35 2023-06-28  10.438136    7.796381   13.167382    10.438136    10.438136   \n",
            "36 2023-06-29  10.442242    7.453641   13.346085    10.442242    10.442242   \n",
            "37 2023-06-30  10.446349    7.646266   13.239416    10.446349    10.446349   \n",
            "38 2023-07-01  10.450455    7.519877   13.396848    10.450455    10.450455   \n",
            "\n",
            "    additive_terms  additive_terms_lower  additive_terms_upper  \\\n",
            "0              0.0                   0.0                   0.0   \n",
            "1              0.0                   0.0                   0.0   \n",
            "2              0.0                   0.0                   0.0   \n",
            "3              0.0                   0.0                   0.0   \n",
            "4              0.0                   0.0                   0.0   \n",
            "5              0.0                   0.0                   0.0   \n",
            "6              0.0                   0.0                   0.0   \n",
            "7              0.0                   0.0                   0.0   \n",
            "8              0.0                   0.0                   0.0   \n",
            "9              0.0                   0.0                   0.0   \n",
            "10             0.0                   0.0                   0.0   \n",
            "11             0.0                   0.0                   0.0   \n",
            "12             0.0                   0.0                   0.0   \n",
            "13             0.0                   0.0                   0.0   \n",
            "14             0.0                   0.0                   0.0   \n",
            "15             0.0                   0.0                   0.0   \n",
            "16             0.0                   0.0                   0.0   \n",
            "17             0.0                   0.0                   0.0   \n",
            "18             0.0                   0.0                   0.0   \n",
            "19             0.0                   0.0                   0.0   \n",
            "20             0.0                   0.0                   0.0   \n",
            "21             0.0                   0.0                   0.0   \n",
            "22             0.0                   0.0                   0.0   \n",
            "23             0.0                   0.0                   0.0   \n",
            "24             0.0                   0.0                   0.0   \n",
            "25             0.0                   0.0                   0.0   \n",
            "26             0.0                   0.0                   0.0   \n",
            "27             0.0                   0.0                   0.0   \n",
            "28             0.0                   0.0                   0.0   \n",
            "29             0.0                   0.0                   0.0   \n",
            "30             0.0                   0.0                   0.0   \n",
            "31             0.0                   0.0                   0.0   \n",
            "32             0.0                   0.0                   0.0   \n",
            "33             0.0                   0.0                   0.0   \n",
            "34             0.0                   0.0                   0.0   \n",
            "35             0.0                   0.0                   0.0   \n",
            "36             0.0                   0.0                   0.0   \n",
            "37             0.0                   0.0                   0.0   \n",
            "38             0.0                   0.0                   0.0   \n",
            "\n",
            "    multiplicative_terms  multiplicative_terms_lower  \\\n",
            "0                    0.0                         0.0   \n",
            "1                    0.0                         0.0   \n",
            "2                    0.0                         0.0   \n",
            "3                    0.0                         0.0   \n",
            "4                    0.0                         0.0   \n",
            "5                    0.0                         0.0   \n",
            "6                    0.0                         0.0   \n",
            "7                    0.0                         0.0   \n",
            "8                    0.0                         0.0   \n",
            "9                    0.0                         0.0   \n",
            "10                   0.0                         0.0   \n",
            "11                   0.0                         0.0   \n",
            "12                   0.0                         0.0   \n",
            "13                   0.0                         0.0   \n",
            "14                   0.0                         0.0   \n",
            "15                   0.0                         0.0   \n",
            "16                   0.0                         0.0   \n",
            "17                   0.0                         0.0   \n",
            "18                   0.0                         0.0   \n",
            "19                   0.0                         0.0   \n",
            "20                   0.0                         0.0   \n",
            "21                   0.0                         0.0   \n",
            "22                   0.0                         0.0   \n",
            "23                   0.0                         0.0   \n",
            "24                   0.0                         0.0   \n",
            "25                   0.0                         0.0   \n",
            "26                   0.0                         0.0   \n",
            "27                   0.0                         0.0   \n",
            "28                   0.0                         0.0   \n",
            "29                   0.0                         0.0   \n",
            "30                   0.0                         0.0   \n",
            "31                   0.0                         0.0   \n",
            "32                   0.0                         0.0   \n",
            "33                   0.0                         0.0   \n",
            "34                   0.0                         0.0   \n",
            "35                   0.0                         0.0   \n",
            "36                   0.0                         0.0   \n",
            "37                   0.0                         0.0   \n",
            "38                   0.0                         0.0   \n",
            "\n",
            "    multiplicative_terms_upper       yhat  \n",
            "0                          0.0   8.241398  \n",
            "1                          0.0   8.282459  \n",
            "2                          0.0   8.339943  \n",
            "3                          0.0   8.664321  \n",
            "4                          0.0   8.910685  \n",
            "5                          0.0   9.247381  \n",
            "6                          0.0   9.321290  \n",
            "7                          0.0   9.653880  \n",
            "8                          0.0  10.327273  \n",
            "9                          0.0  10.331379  \n",
            "10                         0.0  10.335485  \n",
            "11                         0.0  10.339591  \n",
            "12                         0.0  10.343697  \n",
            "13                         0.0  10.347803  \n",
            "14                         0.0  10.351909  \n",
            "15                         0.0  10.356015  \n",
            "16                         0.0  10.360121  \n",
            "17                         0.0  10.364227  \n",
            "18                         0.0  10.368334  \n",
            "19                         0.0  10.372440  \n",
            "20                         0.0  10.376546  \n",
            "21                         0.0  10.380652  \n",
            "22                         0.0  10.384758  \n",
            "23                         0.0  10.388864  \n",
            "24                         0.0  10.392970  \n",
            "25                         0.0  10.397076  \n",
            "26                         0.0  10.401182  \n",
            "27                         0.0  10.405288  \n",
            "28                         0.0  10.409394  \n",
            "29                         0.0  10.413500  \n",
            "30                         0.0  10.417606  \n",
            "31                         0.0  10.421712  \n",
            "32                         0.0  10.425818  \n",
            "33                         0.0  10.429924  \n",
            "34                         0.0  10.434030  \n",
            "35                         0.0  10.438136  \n",
            "36                         0.0  10.442242  \n",
            "37                         0.0  10.446349  \n",
            "38                         0.0  10.450455  \n"
          ]
        },
        {
          "output_type": "display_data",
          "data": {
            "text/plain": [
              "<Figure size 1000x600 with 1 Axes>"
            ],
            "image/png": "[encoded data removed]"
          },
          "metadata": {}
        }
      ]
    },
    {
      "cell_type": "code",
      "source": [
        "component=model.plot_components(forecast)"
      ],
      "metadata": {
        "colab": {
          "base_uri": "https://localhost:8080/",
          "height": 307
        },
        "id": "yqBCJ_F0YB2s",
        "outputId": "86cfa237-f0db-4c5d-9058-9f8aba8becd5"
      },
      "execution_count": 184,
      "outputs": [
        {
          "output_type": "display_data",
          "data": {
            "text/plain": [
              "<Figure size 900x300 with 1 Axes>"
            ],
            "image/png": "[encoded data removed]"
          },
          "metadata": {}
        }
      ]
    },
    {
      "cell_type": "code",
      "source": [
        " model1=Prophet(interval_width=0.95)"
      ],
      "metadata": {
        "id": "Io61ZqqIYHGP"
      },
      "execution_count": 185,
      "outputs": []
    },
    {
      "cell_type": "code",
      "source": [
        " model1.fit(population)"
      ],
      "metadata": {
        "colab": {
          "base_uri": "https://localhost:8080/"
        },
        "id": "rARjHmW3YLQ_",
        "outputId": "2df7d435-245b-4e3e-9628-2e9cd0159e77"
      },
      "execution_count": 186,
      "outputs": [
        {
          "output_type": "stream",
          "name": "stderr",
          "text": [
            "INFO:prophet:Disabling yearly seasonality. Run prophet with yearly_seasonality=True to override this.\n",
            "INFO:prophet:Disabling weekly seasonality. Run prophet with weekly_seasonality=True to override this.\n",
            "INFO:prophet:Disabling daily seasonality. Run prophet with daily_seasonality=True to override this.\n",
            "INFO:prophet:n_changepoints greater than number of observations. Using 6.\n",
            "DEBUG:cmdstanpy:input tempfile: /tmp/tmpqki2d_87/d_mmhw_5.json\n",
            "DEBUG:cmdstanpy:input tempfile: /tmp/tmpqki2d_87/ui4v8gf5.json\n",
            "DEBUG:cmdstanpy:idx 0\n",
            "DEBUG:cmdstanpy:running CmdStan, num_threads: None\n",
            "DEBUG:cmdstanpy:CmdStan args: ['/usr/local/lib/python3.9/dist-packages/prophet/stan_model/prophet_model.bin', 'random', 'seed=55738', 'data', 'file=/tmp/tmpqki2d_87/d_mmhw_5.json', 'init=/tmp/tmpqki2d_87/ui4v8gf5.json', 'output', 'file=/tmp/tmpqki2d_87/prophet_modelh1k2ur3l/prophet_model-20230421063408.csv', 'method=optimize', 'algorithm=newton', 'iter=10000']\n",
            "06:34:08 - cmdstanpy - INFO - Chain [1] start processing\n",
            "INFO:cmdstanpy:Chain [1] start processing\n",
            "06:34:08 - cmdstanpy - INFO - Chain [1] done processing\n",
            "INFO:cmdstanpy:Chain [1] done processing\n"
          ]
        },
        {
          "output_type": "execute_result",
          "data": {
            "text/plain": [
              "<prophet.forecaster.Prophet at 0x7f25ef1bb5e0>"
            ]
          },
          "metadata": {},
          "execution_count": 186
        }
      ]
    },
    {
      "cell_type": "code",
      "source": [
        "future_dates=model1.make_future_dataframe(periods=10)"
      ],
      "metadata": {
        "id": "67_BflY9YPPb"
      },
      "execution_count": 187,
      "outputs": []
    },
    {
      "cell_type": "code",
      "source": [
        "forecasting=model.predict(future_dates)\n",
        "ploting=model.plot(forecasting)"
      ],
      "metadata": {
        "colab": {
          "base_uri": "https://localhost:8080/",
          "height": 607
        },
        "id": "v-fmEXsSYSJK",
        "outputId": "2623db61-69f3-4ce1-bac3-778999907525"
      },
      "execution_count": 188,
      "outputs": [
        {
          "output_type": "display_data",
          "data": {
            "text/plain": [
              "<Figure size 1000x600 with 1 Axes>"
            ],
            "image/png": "[encoded data removed]"
          },
          "metadata": {}
        }
      ]
    },
    {
      "cell_type": "code",
      "source": [
        "week=model1.plot_components(forecasting)\n",
        "print(forecasting)"
      ],
      "metadata": {
        "colab": {
          "base_uri": "https://localhost:8080/",
          "height": 1000
        },
        "id": "0s9s1BwYYVNB",
        "outputId": "40f9f179-c0f7-4d12-8f60-9df1b290d2a9"
      },
      "execution_count": 189,
      "outputs": [
        {
          "output_type": "stream",
          "name": "stdout",
          "text": [
            "           ds      trend  yhat_lower  yhat_upper  trend_lower  trend_upper  \\\n",
            "0  2022-01-09   8.241398    5.209301   11.104578     8.241398     8.241398   \n",
            "1  2022-01-19   8.282459    5.500465   11.205656     8.282459     8.282459   \n",
            "2  2022-02-02   8.339943    5.395721   11.107665     8.339943     8.339943   \n",
            "3  2022-04-22   8.664321    5.576724   11.496007     8.664321     8.664321   \n",
            "4  2022-06-21   8.910685    5.991998   11.822342     8.910685     8.910685   \n",
            "5  2022-09-11   9.247381    6.264262   12.139751     9.247381     9.247381   \n",
            "6  2022-09-29   9.321290    6.495893   12.245158     9.321290     9.321290   \n",
            "7  2022-12-19   9.653880    6.637352   12.687039     9.653880     9.653880   \n",
            "8  2023-06-01  10.327273    7.284495   13.176912    10.327273    10.327273   \n",
            "9  2023-06-02  10.331379    7.388974   13.307836    10.331379    10.331379   \n",
            "10 2023-06-03  10.335485    7.563500   13.266362    10.335485    10.335485   \n",
            "11 2023-06-04  10.339591    7.560669   13.266209    10.339591    10.339591   \n",
            "12 2023-06-05  10.343697    7.405957   13.069070    10.343697    10.343697   \n",
            "13 2023-06-06  10.347803    7.406343   13.202819    10.347803    10.347803   \n",
            "14 2023-06-07  10.351909    7.306509   13.425095    10.351909    10.351909   \n",
            "15 2023-06-08  10.356015    7.528703   13.188424    10.356015    10.356015   \n",
            "16 2023-06-09  10.360121    7.518840   13.389307    10.360121    10.360121   \n",
            "17 2023-06-10  10.364227    7.471985   13.309793    10.364227    10.364227   \n",
            "18 2023-06-11  10.368334    7.638711   13.515497    10.368334    10.368334   \n",
            "\n",
            "    additive_terms  additive_terms_lower  additive_terms_upper  \\\n",
            "0              0.0                   0.0                   0.0   \n",
            "1              0.0                   0.0                   0.0   \n",
            "2              0.0                   0.0                   0.0   \n",
            "3              0.0                   0.0                   0.0   \n",
            "4              0.0                   0.0                   0.0   \n",
            "5              0.0                   0.0                   0.0   \n",
            "6              0.0                   0.0                   0.0   \n",
            "7              0.0                   0.0                   0.0   \n",
            "8              0.0                   0.0                   0.0   \n",
            "9              0.0                   0.0                   0.0   \n",
            "10             0.0                   0.0                   0.0   \n",
            "11             0.0                   0.0                   0.0   \n",
            "12             0.0                   0.0                   0.0   \n",
            "13             0.0                   0.0                   0.0   \n",
            "14             0.0                   0.0                   0.0   \n",
            "15             0.0                   0.0                   0.0   \n",
            "16             0.0                   0.0                   0.0   \n",
            "17             0.0                   0.0                   0.0   \n",
            "18             0.0                   0.0                   0.0   \n",
            "\n",
            "    multiplicative_terms  multiplicative_terms_lower  \\\n",
            "0                    0.0                         0.0   \n",
            "1                    0.0                         0.0   \n",
            "2                    0.0                         0.0   \n",
            "3                    0.0                         0.0   \n",
            "4                    0.0                         0.0   \n",
            "5                    0.0                         0.0   \n",
            "6                    0.0                         0.0   \n",
            "7                    0.0                         0.0   \n",
            "8                    0.0                         0.0   \n",
            "9                    0.0                         0.0   \n",
            "10                   0.0                         0.0   \n",
            "11                   0.0                         0.0   \n",
            "12                   0.0                         0.0   \n",
            "13                   0.0                         0.0   \n",
            "14                   0.0                         0.0   \n",
            "15                   0.0                         0.0   \n",
            "16                   0.0                         0.0   \n",
            "17                   0.0                         0.0   \n",
            "18                   0.0                         0.0   \n",
            "\n",
            "    multiplicative_terms_upper       yhat  \n",
            "0                          0.0   8.241398  \n",
            "1                          0.0   8.282459  \n",
            "2                          0.0   8.339943  \n",
            "3                          0.0   8.664321  \n",
            "4                          0.0   8.910685  \n",
            "5                          0.0   9.247381  \n",
            "6                          0.0   9.321290  \n",
            "7                          0.0   9.653880  \n",
            "8                          0.0  10.327273  \n",
            "9                          0.0  10.331379  \n",
            "10                         0.0  10.335485  \n",
            "11                         0.0  10.339591  \n",
            "12                         0.0  10.343697  \n",
            "13                         0.0  10.347803  \n",
            "14                         0.0  10.351909  \n",
            "15                         0.0  10.356015  \n",
            "16                         0.0  10.360121  \n",
            "17                         0.0  10.364227  \n",
            "18                         0.0  10.368334  \n"
          ]
        },
        {
          "output_type": "display_data",
          "data": {
            "text/plain": [
              "<Figure size 900x300 with 1 Axes>"
            ],
            "image/png": "[encoded data removed]"
          },
          "metadata": {}
        }
      ]
    }
  ]
}