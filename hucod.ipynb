{
  "nbformat": 4,
  "nbformat_minor": 0,
  "metadata": {
    "colab": {
      "provenance": []
    },
    "kernelspec": {
      "name": "python3",
      "display_name": "Python 3"
    },
    "language_info": {
      "name": "python"
    }
  },
  "cells": [
    {
      "cell_type": "code",
      "execution_count": 150,
      "metadata": {
        "id": "vxNjP86FV9_N"
      },
      "outputs": [],
      "source": [
        "import pandas as pd\n",
        "import numpy as np\n",
        "import matplotlib.pyplot as plt\n",
        "import seaborn as sns\n",
        "import plotly.express as px ## World Map"
      ]
    },
    {
      "cell_type": "code",
      "source": [
        "df=pd.read_csv(\"hudco.csv\")\n",
        "df.head()"
      ],
      "metadata": {
        "colab": {
          "base_uri": "https://localhost:8080/",
          "height": 206
        },
        "id": "uXM32LzgW-6h",
        "outputId": "d1768a2e-f1ef-4403-8f30-f3b7294810c1"
      },
      "execution_count": 151,
      "outputs": [
        {
          "output_type": "execute_result",
          "data": {
            "text/plain": [
              "         date  population\n",
              "0  26-02-2022          17\n",
              "1  21-03-2022          19\n",
              "2  28-05-2022          16\n",
              "3  01-07-2022          22\n",
              "4  02-08-2022          25"
            ],
            "text/html": [
              "\n",
              "  <div id=\"df-ae4c8747-b796-4837-b6d9-995c67d982ac\">\n",
              "    <div class=\"colab-df-container\">\n",
              "      <div>\n",
              "<style scoped>\n",
              "    .dataframe tbody tr th:only-of-type {\n",
              "        vertical-align: middle;\n",
              "    }\n",
              "\n",
              "    .dataframe tbody tr th {\n",
              "        vertical-align: top;\n",
              "    }\n",
              "\n",
              "    .dataframe thead th {\n",
              "        text-align: right;\n",
              "    }\n",
              "</style>\n",
              "<table border=\"1\" class=\"dataframe\">\n",
              "  <thead>\n",
              "    <tr style=\"text-align: right;\">\n",
              "      <th></th>\n",
              "      <th>date</th>\n",
              "      <th>population</th>\n",
              "    </tr>\n",
              "  </thead>\n",
              "  <tbody>\n",
              "    <tr>\n",
              "      <th>0</th>\n",
              "      <td>26-02-2022</td>\n",
              "      <td>17</td>\n",
              "    </tr>\n",
              "    <tr>\n",
              "      <th>1</th>\n",
              "      <td>21-03-2022</td>\n",
              "      <td>19</td>\n",
              "    </tr>\n",
              "    <tr>\n",
              "      <th>2</th>\n",
              "      <td>28-05-2022</td>\n",
              "      <td>16</td>\n",
              "    </tr>\n",
              "    <tr>\n",
              "      <th>3</th>\n",
              "      <td>01-07-2022</td>\n",
              "      <td>22</td>\n",
              "    </tr>\n",
              "    <tr>\n",
              "      <th>4</th>\n",
              "      <td>02-08-2022</td>\n",
              "      <td>25</td>\n",
              "    </tr>\n",
              "  </tbody>\n",
              "</table>\n",
              "</div>\n",
              "      <button class=\"colab-df-convert\" onclick=\"convertToInteractive('df-ae4c8747-b796-4837-b6d9-995c67d982ac')\"\n",
              "              title=\"Convert this dataframe to an interactive table.\"\n",
              "              style=\"display:none;\">\n",
              "        \n",
              "  <svg xmlns=\"http://www.w3.org/2000/svg\" height=\"24px\"viewBox=\"0 0 24 24\"\n",
              "       width=\"24px\">\n",
              "    <path d=\"M0 0h24v24H0V0z\" fill=\"none\"/>\n",
              "    <path d=\"M18.56 5.44l.94 2.06.94-2.06 2.06-.94-2.06-.94-.94-2.06-.94 2.06-2.06.94zm-11 1L8.5 8.5l.94-2.06 2.06-.94-2.06-.94L8.5 2.5l-.94 2.06-2.06.94zm10 10l.94 2.06.94-2.06 2.06-.94-2.06-.94-.94-2.06-.94 2.06-2.06.94z\"/><path d=\"M17.41 7.96l-1.37-1.37c-.4-.4-.92-.59-1.43-.59-.52 0-1.04.2-1.43.59L10.3 9.45l-7.72 7.72c-.78.78-.78 2.05 0 2.83L4 21.41c.39.39.9.59 1.41.59.51 0 1.02-.2 1.41-.59l7.78-7.78 2.81-2.81c.8-.78.8-2.07 0-2.86zM5.41 20L4 18.59l7.72-7.72 1.47 1.35L5.41 20z\"/>\n",
              "  </svg>\n",
              "      </button>\n",
              "      \n",
              "  <style>\n",
              "    .colab-df-container {\n",
              "      display:flex;\n",
              "      flex-wrap:wrap;\n",
              "      gap: 12px;\n",
              "    }\n",
              "\n",
              "    .colab-df-convert {\n",
              "      background-color: #E8F0FE;\n",
              "      border: none;\n",
              "      border-radius: 50%;\n",
              "      cursor: pointer;\n",
              "      display: none;\n",
              "      fill: #1967D2;\n",
              "      height: 32px;\n",
              "      padding: 0 0 0 0;\n",
              "      width: 32px;\n",
              "    }\n",
              "\n",
              "    .colab-df-convert:hover {\n",
              "      background-color: #E2EBFA;\n",
              "      box-shadow: 0px 1px 2px rgba(60, 64, 67, 0.3), 0px 1px 3px 1px rgba(60, 64, 67, 0.15);\n",
              "      fill: #174EA6;\n",
              "    }\n",
              "\n",
              "    [theme=dark] .colab-df-convert {\n",
              "      background-color: #3B4455;\n",
              "      fill: #D2E3FC;\n",
              "    }\n",
              "\n",
              "    [theme=dark] .colab-df-convert:hover {\n",
              "      background-color: #434B5C;\n",
              "      box-shadow: 0px 1px 3px 1px rgba(0, 0, 0, 0.15);\n",
              "      filter: drop-shadow(0px 1px 2px rgba(0, 0, 0, 0.3));\n",
              "      fill: #FFFFFF;\n",
              "    }\n",
              "  </style>\n",
              "\n",
              "      <script>\n",
              "        const buttonEl =\n",
              "          document.querySelector('#df-ae4c8747-b796-4837-b6d9-995c67d982ac button.colab-df-convert');\n",
              "        buttonEl.style.display =\n",
              "          google.colab.kernel.accessAllowed ? 'block' : 'none';\n",
              "\n",
              "        async function convertToInteractive(key) {\n",
              "          const element = document.querySelector('#df-ae4c8747-b796-4837-b6d9-995c67d982ac');\n",
              "          const dataTable =\n",
              "            await google.colab.kernel.invokeFunction('convertToInteractive',\n",
              "                                                     [key], {});\n",
              "          if (!dataTable) return;\n",
              "\n",
              "          const docLinkHtml = 'Like what you see? Visit the ' +\n",
              "            '<a target=\"_blank\" href=https://colab.research.google.com/notebooks/data_table.ipynb>data table notebook</a>'\n",
              "            + ' to learn more about interactive tables.';\n",
              "          element.innerHTML = '';\n",
              "          dataTable['output_type'] = 'display_data';\n",
              "          await google.colab.output.renderOutput(dataTable, element);\n",
              "          const docLink = document.createElement('div');\n",
              "          docLink.innerHTML = docLinkHtml;\n",
              "          element.appendChild(docLink);\n",
              "        }\n",
              "      </script>\n",
              "    </div>\n",
              "  </div>\n",
              "  "
            ]
          },
          "metadata": {},
          "execution_count": 151
        }
      ]
    },
    {
      "cell_type": "code",
      "source": [
        "df.info()"
      ],
      "metadata": {
        "colab": {
          "base_uri": "https://localhost:8080/"
        },
        "id": "2s2csG0kXDTy",
        "outputId": "f803805b-2482-4da1-de8b-c13f10d67f80"
      },
      "execution_count": 152,
      "outputs": [
        {
          "output_type": "stream",
          "name": "stdout",
          "text": [
            "<class 'pandas.core.frame.DataFrame'>\n",
            "RangeIndex: 10 entries, 0 to 9\n",
            "Data columns (total 2 columns):\n",
            " #   Column      Non-Null Count  Dtype \n",
            "---  ------      --------------  ----- \n",
            " 0   date        10 non-null     object\n",
            " 1   population  10 non-null     int64 \n",
            "dtypes: int64(1), object(1)\n",
            "memory usage: 288.0+ bytes\n"
          ]
        }
      ]
    },
    {
      "cell_type": "code",
      "source": [
        "df.isnull().sum()"
      ],
      "metadata": {
        "colab": {
          "base_uri": "https://localhost:8080/"
        },
        "id": "5jwyIyy-XP2G",
        "outputId": "97e14564-872a-43c3-c5b2-48cf87fddb9c"
      },
      "execution_count": 153,
      "outputs": [
        {
          "output_type": "execute_result",
          "data": {
            "text/plain": [
              "date          0\n",
              "population    0\n",
              "dtype: int64"
            ]
          },
          "metadata": {},
          "execution_count": 153
        }
      ]
    },
    {
      "cell_type": "code",
      "source": [
        "df[\"date\"]= pd.to_datetime(df[\"date\"])"
      ],
      "metadata": {
        "colab": {
          "base_uri": "https://localhost:8080/"
        },
        "id": "fF-EMwKoXTAl",
        "outputId": "a534492c-e24e-49fd-815d-d85d5b400d91"
      },
      "execution_count": 154,
      "outputs": [
        {
          "output_type": "stream",
          "name": "stderr",
          "text": [
            "<ipython-input-154-082167ba8dcc>:1: UserWarning: Parsing dates in DD/MM/YYYY format when dayfirst=False (the default) was specified. This may lead to inconsistently parsed dates! Specify a format to ensure consistent parsing.\n",
            "  df[\"date\"]= pd.to_datetime(df[\"date\"])\n"
          ]
        }
      ]
    },
    {
      "cell_type": "code",
      "source": [
        " !pip install prophet"
      ],
      "metadata": {
        "colab": {
          "base_uri": "https://localhost:8080/"
        },
        "id": "31WHiRxDXd7z",
        "outputId": "66f9ba5a-aae0-4842-9792-d1679d1d84af"
      },
      "execution_count": 155,
      "outputs": [
        {
          "output_type": "stream",
          "name": "stdout",
          "text": [
            "Looking in indexes: https://pypi.org/simple, https://us-python.pkg.dev/colab-wheels/public/simple/\n",
            "Requirement already satisfied: prophet in /usr/local/lib/python3.9/dist-packages (1.1.2)\n",
            "Requirement already satisfied: tqdm>=4.36.1 in /usr/local/lib/python3.9/dist-packages (from prophet) (4.65.0)\n",
            "Requirement already satisfied: cmdstanpy>=1.0.4 in /usr/local/lib/python3.9/dist-packages (from prophet) (1.1.0)\n",
            "Requirement already satisfied: pandas>=1.0.4 in /usr/local/lib/python3.9/dist-packages (from prophet) (1.5.3)\n",
            "Requirement already satisfied: matplotlib>=2.0.0 in /usr/local/lib/python3.9/dist-packages (from prophet) (3.7.1)\n",
            "Requirement already satisfied: python-dateutil>=2.8.0 in /usr/local/lib/python3.9/dist-packages (from prophet) (2.8.2)\n",
            "Requirement already satisfied: convertdate>=2.1.2 in /usr/local/lib/python3.9/dist-packages (from prophet) (2.4.0)\n",
            "Requirement already satisfied: holidays>=0.14.2 in /usr/local/lib/python3.9/dist-packages (from prophet) (0.22)\n",
            "Requirement already satisfied: numpy>=1.15.4 in /usr/local/lib/python3.9/dist-packages (from prophet) (1.22.4)\n",
            "Requirement already satisfied: LunarCalendar>=0.0.9 in /usr/local/lib/python3.9/dist-packages (from prophet) (0.0.9)\n",
            "Requirement already satisfied: pymeeus<=1,>=0.3.13 in /usr/local/lib/python3.9/dist-packages (from convertdate>=2.1.2->prophet) (0.5.12)\n",
            "Requirement already satisfied: korean-lunar-calendar in /usr/local/lib/python3.9/dist-packages (from holidays>=0.14.2->prophet) (0.3.1)\n",
            "Requirement already satisfied: hijri-converter in /usr/local/lib/python3.9/dist-packages (from holidays>=0.14.2->prophet) (2.2.4)\n",
            "Requirement already satisfied: pytz in /usr/local/lib/python3.9/dist-packages (from LunarCalendar>=0.0.9->prophet) (2022.7.1)\n",
            "Requirement already satisfied: ephem>=3.7.5.3 in /usr/local/lib/python3.9/dist-packages (from LunarCalendar>=0.0.9->prophet) (4.1.4)\n",
            "Requirement already satisfied: importlib-resources>=3.2.0 in /usr/local/lib/python3.9/dist-packages (from matplotlib>=2.0.0->prophet) (5.12.0)\n",
            "Requirement already satisfied: contourpy>=1.0.1 in /usr/local/lib/python3.9/dist-packages (from matplotlib>=2.0.0->prophet) (1.0.7)\n",
            "Requirement already satisfied: packaging>=20.0 in /usr/local/lib/python3.9/dist-packages (from matplotlib>=2.0.0->prophet) (23.1)\n",
            "Requirement already satisfied: kiwisolver>=1.0.1 in /usr/local/lib/python3.9/dist-packages (from matplotlib>=2.0.0->prophet) (1.4.4)\n",
            "Requirement already satisfied: fonttools>=4.22.0 in /usr/local/lib/python3.9/dist-packages (from matplotlib>=2.0.0->prophet) (4.39.3)\n",
            "Requirement already satisfied: pillow>=6.2.0 in /usr/local/lib/python3.9/dist-packages (from matplotlib>=2.0.0->prophet) (8.4.0)\n",
            "Requirement already satisfied: cycler>=0.10 in /usr/local/lib/python3.9/dist-packages (from matplotlib>=2.0.0->prophet) (0.11.0)\n",
            "Requirement already satisfied: pyparsing>=2.3.1 in /usr/local/lib/python3.9/dist-packages (from matplotlib>=2.0.0->prophet) (3.0.9)\n",
            "Requirement already satisfied: six>=1.5 in /usr/local/lib/python3.9/dist-packages (from python-dateutil>=2.8.0->prophet) (1.16.0)\n",
            "Requirement already satisfied: zipp>=3.1.0 in /usr/local/lib/python3.9/dist-packages (from importlib-resources>=3.2.0->matplotlib>=2.0.0->prophet) (3.15.0)\n"
          ]
        }
      ]
    },
    {
      "cell_type": "code",
      "source": [
        " from prophet import Prophet"
      ],
      "metadata": {
        "id": "6bfO-j4nXkYz"
      },
      "execution_count": 156,
      "outputs": []
    },
    {
      "cell_type": "code",
      "source": [
        "population=df.groupby('date')['population'].sum().reset_index()"
      ],
      "metadata": {
        "id": "1UAH9U7TXoRK"
      },
      "execution_count": 157,
      "outputs": []
    },
    {
      "cell_type": "code",
      "source": [
        "population.rename(columns={\"date\":\"ds\",\"population\":\"y\"},inplace=True)"
      ],
      "metadata": {
        "id": "9uwuHY8FXrIV"
      },
      "execution_count": 158,
      "outputs": []
    },
    {
      "cell_type": "code",
      "source": [
        "model=Prophet(interval_width=0.95)"
      ],
      "metadata": {
        "id": "gl9IDqcEXuFm"
      },
      "execution_count": 159,
      "outputs": []
    },
    {
      "cell_type": "code",
      "source": [
        "model.fit(population)"
      ],
      "metadata": {
        "colab": {
          "base_uri": "https://localhost:8080/"
        },
        "id": "KD1ezWu6XxNv",
        "outputId": "832cef03-c105-4c81-d959-dde9189442a9"
      },
      "execution_count": 160,
      "outputs": [
        {
          "output_type": "stream",
          "name": "stderr",
          "text": [
            "INFO:prophet:Disabling yearly seasonality. Run prophet with yearly_seasonality=True to override this.\n",
            "INFO:prophet:Disabling weekly seasonality. Run prophet with weekly_seasonality=True to override this.\n",
            "INFO:prophet:Disabling daily seasonality. Run prophet with daily_seasonality=True to override this.\n",
            "INFO:prophet:n_changepoints greater than number of observations. Using 7.\n",
            "DEBUG:cmdstanpy:input tempfile: /tmp/tmpqki2d_87/1or0pnep.json\n",
            "DEBUG:cmdstanpy:input tempfile: /tmp/tmpqki2d_87/zesv4prr.json\n",
            "DEBUG:cmdstanpy:idx 0\n",
            "DEBUG:cmdstanpy:running CmdStan, num_threads: None\n",
            "DEBUG:cmdstanpy:CmdStan args: ['/usr/local/lib/python3.9/dist-packages/prophet/stan_model/prophet_model.bin', 'random', 'seed=43684', 'data', 'file=/tmp/tmpqki2d_87/1or0pnep.json', 'init=/tmp/tmpqki2d_87/zesv4prr.json', 'output', 'file=/tmp/tmpqki2d_87/prophet_modelkgjpk9lt/prophet_model-20230421063038.csv', 'method=optimize', 'algorithm=newton', 'iter=10000']\n",
            "06:30:38 - cmdstanpy - INFO - Chain [1] start processing\n",
            "INFO:cmdstanpy:Chain [1] start processing\n",
            "06:30:38 - cmdstanpy - INFO - Chain [1] done processing\n",
            "INFO:cmdstanpy:Chain [1] done processing\n"
          ]
        },
        {
          "output_type": "execute_result",
          "data": {
            "text/plain": [
              "<prophet.forecaster.Prophet at 0x7f25f03958e0>"
            ]
          },
          "metadata": {},
          "execution_count": 160
        }
      ]
    },
    {
      "cell_type": "code",
      "source": [
        "future_dates=model.make_future_dataframe(periods=30)"
      ],
      "metadata": {
        "id": "BsbWv5eaX0wi"
      },
      "execution_count": 161,
      "outputs": []
    },
    {
      "cell_type": "code",
      "source": [
        "forecast=model.predict(future_dates)"
      ],
      "metadata": {
        "id": "O8D1cTF2X8K6"
      },
      "execution_count": 162,
      "outputs": []
    },
    {
      "cell_type": "code",
      "source": [
        "model.plot(forecast)\n",
        "print(forecast)"
      ],
      "metadata": {
        "colab": {
          "base_uri": "https://localhost:8080/",
          "height": 1000
        },
        "id": "Rz7BlQ5QX-py",
        "outputId": "7219bf81-8e62-4f9a-d9cb-155957bfd238"
      },
      "execution_count": 163,
      "outputs": [
        {
          "output_type": "stream",
          "name": "stdout",
          "text": [
            "           ds      trend  yhat_lower  yhat_upper  trend_lower  trend_upper  \\\n",
            "0  2022-01-07  19.634350   13.951335   25.211573    19.634350    19.634350   \n",
            "1  2022-02-08  19.684116   14.246240   24.632232    19.684116    19.684116   \n",
            "2  2022-02-26  19.712110   14.483642   25.087396    19.712110    19.712110   \n",
            "3  2022-03-21  19.747880   14.370381   24.702478    19.747880    19.747880   \n",
            "4  2022-05-12  19.828750   14.389196   24.993033    19.828750    19.828750   \n",
            "5  2022-05-28  19.853634   14.864783   24.819019    19.853634    19.853634   \n",
            "6  2022-07-11  19.922063   14.658633   25.188797    19.922063    19.922063   \n",
            "7  2022-10-13  20.068252   14.490010   25.025479    20.068252    20.068252   \n",
            "8  2023-02-16  20.264207   14.994492   25.423022    20.264207    20.264207   \n",
            "9  2023-07-03  20.477270   15.385875   26.117572    20.477270    20.477270   \n",
            "10 2023-07-04  20.478825   15.096375   25.798924    20.478825    20.478825   \n",
            "11 2023-07-05  20.480380   15.183979   25.598006    20.480380    20.480380   \n",
            "12 2023-07-06  20.481936   15.048728   25.503731    20.481936    20.481936   \n",
            "13 2023-07-07  20.483491   15.264500   25.687834    20.483491    20.483491   \n",
            "14 2023-07-08  20.485046   15.370318   25.820688    20.485046    20.485046   \n",
            "15 2023-07-09  20.486601   15.132466   25.774464    20.486601    20.486601   \n",
            "16 2023-07-10  20.488156   15.630533   25.537067    20.488156    20.488156   \n",
            "17 2023-07-11  20.489712   15.312771   25.778816    20.489712    20.489712   \n",
            "18 2023-07-12  20.491267   15.235236   25.916074    20.491267    20.491267   \n",
            "19 2023-07-13  20.492822   14.995129   25.652320    20.492822    20.492822   \n",
            "20 2023-07-14  20.494377   15.071678   25.422976    20.494377    20.494377   \n",
            "21 2023-07-15  20.495932   14.945516   25.388213    20.495932    20.495932   \n",
            "22 2023-07-16  20.497488   15.179601   25.845905    20.497488    20.497488   \n",
            "23 2023-07-17  20.499043   15.260673   26.205523    20.499043    20.499043   \n",
            "24 2023-07-18  20.500598   15.512301   25.510788    20.500598    20.500598   \n",
            "25 2023-07-19  20.502153   15.287752   25.811878    20.502153    20.502153   \n",
            "26 2023-07-20  20.503708   14.932115   26.081780    20.503708    20.503708   \n",
            "27 2023-07-21  20.505264   15.339141   25.694252    20.505264    20.505264   \n",
            "28 2023-07-22  20.506819   15.275826   25.995058    20.506819    20.506819   \n",
            "29 2023-07-23  20.508374   15.484246   25.545878    20.508374    20.508374   \n",
            "30 2023-07-24  20.509929   15.317879   25.615523    20.509929    20.509929   \n",
            "31 2023-07-25  20.511484   15.001084   25.610061    20.511484    20.511484   \n",
            "32 2023-07-26  20.513040   15.604154   25.555829    20.513040    20.513040   \n",
            "33 2023-07-27  20.514595   15.907832   25.795486    20.514595    20.514595   \n",
            "34 2023-07-28  20.516150   15.541449   25.115915    20.516150    20.516150   \n",
            "35 2023-07-29  20.517705   15.380045   25.862213    20.517705    20.517705   \n",
            "36 2023-07-30  20.519261   15.298211   25.914638    20.519260    20.519261   \n",
            "37 2023-07-31  20.520816   15.547132   25.829701    20.520816    20.520816   \n",
            "38 2023-08-01  20.522371   15.137096   25.882698    20.522371    20.522371   \n",
            "39 2023-08-02  20.523926   15.145868   25.260047    20.523926    20.523926   \n",
            "\n",
            "    additive_terms  additive_terms_lower  additive_terms_upper  \\\n",
            "0              0.0                   0.0                   0.0   \n",
            "1              0.0                   0.0                   0.0   \n",
            "2              0.0                   0.0                   0.0   \n",
            "3              0.0                   0.0                   0.0   \n",
            "4              0.0                   0.0                   0.0   \n",
            "5              0.0                   0.0                   0.0   \n",
            "6              0.0                   0.0                   0.0   \n",
            "7              0.0                   0.0                   0.0   \n",
            "8              0.0                   0.0                   0.0   \n",
            "9              0.0                   0.0                   0.0   \n",
            "10             0.0                   0.0                   0.0   \n",
            "11             0.0                   0.0                   0.0   \n",
            "12             0.0                   0.0                   0.0   \n",
            "13             0.0                   0.0                   0.0   \n",
            "14             0.0                   0.0                   0.0   \n",
            "15             0.0                   0.0                   0.0   \n",
            "16             0.0                   0.0                   0.0   \n",
            "17             0.0                   0.0                   0.0   \n",
            "18             0.0                   0.0                   0.0   \n",
            "19             0.0                   0.0                   0.0   \n",
            "20             0.0                   0.0                   0.0   \n",
            "21             0.0                   0.0                   0.0   \n",
            "22             0.0                   0.0                   0.0   \n",
            "23             0.0                   0.0                   0.0   \n",
            "24             0.0                   0.0                   0.0   \n",
            "25             0.0                   0.0                   0.0   \n",
            "26             0.0                   0.0                   0.0   \n",
            "27             0.0                   0.0                   0.0   \n",
            "28             0.0                   0.0                   0.0   \n",
            "29             0.0                   0.0                   0.0   \n",
            "30             0.0                   0.0                   0.0   \n",
            "31             0.0                   0.0                   0.0   \n",
            "32             0.0                   0.0                   0.0   \n",
            "33             0.0                   0.0                   0.0   \n",
            "34             0.0                   0.0                   0.0   \n",
            "35             0.0                   0.0                   0.0   \n",
            "36             0.0                   0.0                   0.0   \n",
            "37             0.0                   0.0                   0.0   \n",
            "38             0.0                   0.0                   0.0   \n",
            "39             0.0                   0.0                   0.0   \n",
            "\n",
            "    multiplicative_terms  multiplicative_terms_lower  \\\n",
            "0                    0.0                         0.0   \n",
            "1                    0.0                         0.0   \n",
            "2                    0.0                         0.0   \n",
            "3                    0.0                         0.0   \n",
            "4                    0.0                         0.0   \n",
            "5                    0.0                         0.0   \n",
            "6                    0.0                         0.0   \n",
            "7                    0.0                         0.0   \n",
            "8                    0.0                         0.0   \n",
            "9                    0.0                         0.0   \n",
            "10                   0.0                         0.0   \n",
            "11                   0.0                         0.0   \n",
            "12                   0.0                         0.0   \n",
            "13                   0.0                         0.0   \n",
            "14                   0.0                         0.0   \n",
            "15                   0.0                         0.0   \n",
            "16                   0.0                         0.0   \n",
            "17                   0.0                         0.0   \n",
            "18                   0.0                         0.0   \n",
            "19                   0.0                         0.0   \n",
            "20                   0.0                         0.0   \n",
            "21                   0.0                         0.0   \n",
            "22                   0.0                         0.0   \n",
            "23                   0.0                         0.0   \n",
            "24                   0.0                         0.0   \n",
            "25                   0.0                         0.0   \n",
            "26                   0.0                         0.0   \n",
            "27                   0.0                         0.0   \n",
            "28                   0.0                         0.0   \n",
            "29                   0.0                         0.0   \n",
            "30                   0.0                         0.0   \n",
            "31                   0.0                         0.0   \n",
            "32                   0.0                         0.0   \n",
            "33                   0.0                         0.0   \n",
            "34                   0.0                         0.0   \n",
            "35                   0.0                         0.0   \n",
            "36                   0.0                         0.0   \n",
            "37                   0.0                         0.0   \n",
            "38                   0.0                         0.0   \n",
            "39                   0.0                         0.0   \n",
            "\n",
            "    multiplicative_terms_upper       yhat  \n",
            "0                          0.0  19.634350  \n",
            "1                          0.0  19.684116  \n",
            "2                          0.0  19.712110  \n",
            "3                          0.0  19.747880  \n",
            "4                          0.0  19.828750  \n",
            "5                          0.0  19.853634  \n",
            "6                          0.0  19.922063  \n",
            "7                          0.0  20.068252  \n",
            "8                          0.0  20.264207  \n",
            "9                          0.0  20.477270  \n",
            "10                         0.0  20.478825  \n",
            "11                         0.0  20.480380  \n",
            "12                         0.0  20.481936  \n",
            "13                         0.0  20.483491  \n",
            "14                         0.0  20.485046  \n",
            "15                         0.0  20.486601  \n",
            "16                         0.0  20.488156  \n",
            "17                         0.0  20.489712  \n",
            "18                         0.0  20.491267  \n",
            "19                         0.0  20.492822  \n",
            "20                         0.0  20.494377  \n",
            "21                         0.0  20.495932  \n",
            "22                         0.0  20.497488  \n",
            "23                         0.0  20.499043  \n",
            "24                         0.0  20.500598  \n",
            "25                         0.0  20.502153  \n",
            "26                         0.0  20.503708  \n",
            "27                         0.0  20.505264  \n",
            "28                         0.0  20.506819  \n",
            "29                         0.0  20.508374  \n",
            "30                         0.0  20.509929  \n",
            "31                         0.0  20.511484  \n",
            "32                         0.0  20.513040  \n",
            "33                         0.0  20.514595  \n",
            "34                         0.0  20.516150  \n",
            "35                         0.0  20.517705  \n",
            "36                         0.0  20.519261  \n",
            "37                         0.0  20.520816  \n",
            "38                         0.0  20.522371  \n",
            "39                         0.0  20.523926  \n"
          ]
        },
        {
          "output_type": "display_data",
          "data": {
            "text/plain": [
              "<Figure size 1000x600 with 1 Axes>"
            ],
            "image/png": "[encoded data removed]"
          },
          "metadata": {}
        }
      ]
    },
    {
      "cell_type": "code",
      "source": [
        "component=model.plot_components(forecast)"
      ],
      "metadata": {
        "colab": {
          "base_uri": "https://localhost:8080/",
          "height": 307
        },
        "id": "yqBCJ_F0YB2s",
        "outputId": "75f97f19-1818-4cfc-f0fe-5325a46b07b5"
      },
      "execution_count": 164,
      "outputs": [
        {
          "output_type": "display_data",
          "data": {
            "text/plain": [
              "<Figure size 900x300 with 1 Axes>"
            ],
            "image/png": "[encoded data removed]"
          },
          "metadata": {}
        }
      ]
    },
    {
      "cell_type": "code",
      "source": [
        " model1=Prophet(interval_width=0.95)"
      ],
      "metadata": {
        "id": "Io61ZqqIYHGP"
      },
      "execution_count": 165,
      "outputs": []
    },
    {
      "cell_type": "code",
      "source": [
        " model1.fit(population)"
      ],
      "metadata": {
        "colab": {
          "base_uri": "https://localhost:8080/"
        },
        "id": "rARjHmW3YLQ_",
        "outputId": "d74c6e6c-0db4-4c78-e358-6f9dac3412be"
      },
      "execution_count": 166,
      "outputs": [
        {
          "output_type": "stream",
          "name": "stderr",
          "text": [
            "INFO:prophet:Disabling yearly seasonality. Run prophet with yearly_seasonality=True to override this.\n",
            "INFO:prophet:Disabling weekly seasonality. Run prophet with weekly_seasonality=True to override this.\n",
            "INFO:prophet:Disabling daily seasonality. Run prophet with daily_seasonality=True to override this.\n",
            "INFO:prophet:n_changepoints greater than number of observations. Using 7.\n",
            "DEBUG:cmdstanpy:input tempfile: /tmp/tmpqki2d_87/kr844pvy.json\n",
            "DEBUG:cmdstanpy:input tempfile: /tmp/tmpqki2d_87/n7kifqgk.json\n",
            "DEBUG:cmdstanpy:idx 0\n",
            "DEBUG:cmdstanpy:running CmdStan, num_threads: None\n",
            "DEBUG:cmdstanpy:CmdStan args: ['/usr/local/lib/python3.9/dist-packages/prophet/stan_model/prophet_model.bin', 'random', 'seed=56450', 'data', 'file=/tmp/tmpqki2d_87/kr844pvy.json', 'init=/tmp/tmpqki2d_87/n7kifqgk.json', 'output', 'file=/tmp/tmpqki2d_87/prophet_model_1nusnf4/prophet_model-20230421063057.csv', 'method=optimize', 'algorithm=newton', 'iter=10000']\n",
            "06:30:57 - cmdstanpy - INFO - Chain [1] start processing\n",
            "INFO:cmdstanpy:Chain [1] start processing\n",
            "06:30:57 - cmdstanpy - INFO - Chain [1] done processing\n",
            "INFO:cmdstanpy:Chain [1] done processing\n"
          ]
        },
        {
          "output_type": "execute_result",
          "data": {
            "text/plain": [
              "<prophet.forecaster.Prophet at 0x7f25ef3e5e20>"
            ]
          },
          "metadata": {},
          "execution_count": 166
        }
      ]
    },
    {
      "cell_type": "code",
      "source": [
        "future_dates=model1.make_future_dataframe(periods=10)"
      ],
      "metadata": {
        "id": "67_BflY9YPPb"
      },
      "execution_count": 167,
      "outputs": []
    },
    {
      "cell_type": "code",
      "source": [
        "forecasting=model.predict(future_dates)\n",
        "ploting=model.plot(forecasting)"
      ],
      "metadata": {
        "colab": {
          "base_uri": "https://localhost:8080/",
          "height": 607
        },
        "id": "v-fmEXsSYSJK",
        "outputId": "3309347a-9efa-4427-a5ad-046e6589b4ce"
      },
      "execution_count": 168,
      "outputs": [
        {
          "output_type": "display_data",
          "data": {
            "text/plain": [
              "<Figure size 1000x600 with 1 Axes>"
            ],
            "image/png": "[encoded data removed]"
          },
          "metadata": {}
        }
      ]
    },
    {
      "cell_type": "code",
      "source": [
        "week=model1.plot_components(forecasting)\n",
        "print(forecasting)"
      ],
      "metadata": {
        "colab": {
          "base_uri": "https://localhost:8080/",
          "height": 1000
        },
        "id": "0s9s1BwYYVNB",
        "outputId": "46ebe03c-a099-4031-b667-2cbb4f892a11"
      },
      "execution_count": 169,
      "outputs": [
        {
          "output_type": "stream",
          "name": "stdout",
          "text": [
            "           ds      trend  yhat_lower  yhat_upper  trend_lower  trend_upper  \\\n",
            "0  2022-01-07  19.634350   14.105496   24.794869    19.634350    19.634350   \n",
            "1  2022-02-08  19.684116   15.096390   24.957875    19.684116    19.684116   \n",
            "2  2022-02-26  19.712110   14.537143   24.483677    19.712110    19.712110   \n",
            "3  2022-03-21  19.747880   14.722042   25.099992    19.747880    19.747880   \n",
            "4  2022-05-12  19.828750   15.006038   25.239545    19.828750    19.828750   \n",
            "5  2022-05-28  19.853634   14.394361   25.127307    19.853634    19.853634   \n",
            "6  2022-07-11  19.922063   14.472057   24.790471    19.922063    19.922063   \n",
            "7  2022-10-13  20.068252   14.970016   25.366401    20.068252    20.068252   \n",
            "8  2023-02-16  20.264207   15.435051   25.920710    20.264207    20.264207   \n",
            "9  2023-07-03  20.477270   15.460631   25.697147    20.477270    20.477270   \n",
            "10 2023-07-04  20.478825   15.236533   25.921841    20.478825    20.478825   \n",
            "11 2023-07-05  20.480380   14.607481   25.743828    20.480380    20.480380   \n",
            "12 2023-07-06  20.481936   15.145013   25.779114    20.481936    20.481936   \n",
            "13 2023-07-07  20.483491   15.053220   25.699564    20.483491    20.483491   \n",
            "14 2023-07-08  20.485046   15.198298   25.716710    20.485046    20.485046   \n",
            "15 2023-07-09  20.486601   15.069627   25.926783    20.486601    20.486601   \n",
            "16 2023-07-10  20.488156   15.493727   25.290523    20.488156    20.488156   \n",
            "17 2023-07-11  20.489712   15.311159   26.132936    20.489712    20.489712   \n",
            "18 2023-07-12  20.491267   15.260352   25.920138    20.491267    20.491267   \n",
            "19 2023-07-13  20.492822   14.926153   25.795646    20.492822    20.492822   \n",
            "\n",
            "    additive_terms  additive_terms_lower  additive_terms_upper  \\\n",
            "0              0.0                   0.0                   0.0   \n",
            "1              0.0                   0.0                   0.0   \n",
            "2              0.0                   0.0                   0.0   \n",
            "3              0.0                   0.0                   0.0   \n",
            "4              0.0                   0.0                   0.0   \n",
            "5              0.0                   0.0                   0.0   \n",
            "6              0.0                   0.0                   0.0   \n",
            "7              0.0                   0.0                   0.0   \n",
            "8              0.0                   0.0                   0.0   \n",
            "9              0.0                   0.0                   0.0   \n",
            "10             0.0                   0.0                   0.0   \n",
            "11             0.0                   0.0                   0.0   \n",
            "12             0.0                   0.0                   0.0   \n",
            "13             0.0                   0.0                   0.0   \n",
            "14             0.0                   0.0                   0.0   \n",
            "15             0.0                   0.0                   0.0   \n",
            "16             0.0                   0.0                   0.0   \n",
            "17             0.0                   0.0                   0.0   \n",
            "18             0.0                   0.0                   0.0   \n",
            "19             0.0                   0.0                   0.0   \n",
            "\n",
            "    multiplicative_terms  multiplicative_terms_lower  \\\n",
            "0                    0.0                         0.0   \n",
            "1                    0.0                         0.0   \n",
            "2                    0.0                         0.0   \n",
            "3                    0.0                         0.0   \n",
            "4                    0.0                         0.0   \n",
            "5                    0.0                         0.0   \n",
            "6                    0.0                         0.0   \n",
            "7                    0.0                         0.0   \n",
            "8                    0.0                         0.0   \n",
            "9                    0.0                         0.0   \n",
            "10                   0.0                         0.0   \n",
            "11                   0.0                         0.0   \n",
            "12                   0.0                         0.0   \n",
            "13                   0.0                         0.0   \n",
            "14                   0.0                         0.0   \n",
            "15                   0.0                         0.0   \n",
            "16                   0.0                         0.0   \n",
            "17                   0.0                         0.0   \n",
            "18                   0.0                         0.0   \n",
            "19                   0.0                         0.0   \n",
            "\n",
            "    multiplicative_terms_upper       yhat  \n",
            "0                          0.0  19.634350  \n",
            "1                          0.0  19.684116  \n",
            "2                          0.0  19.712110  \n",
            "3                          0.0  19.747880  \n",
            "4                          0.0  19.828750  \n",
            "5                          0.0  19.853634  \n",
            "6                          0.0  19.922063  \n",
            "7                          0.0  20.068252  \n",
            "8                          0.0  20.264207  \n",
            "9                          0.0  20.477270  \n",
            "10                         0.0  20.478825  \n",
            "11                         0.0  20.480380  \n",
            "12                         0.0  20.481936  \n",
            "13                         0.0  20.483491  \n",
            "14                         0.0  20.485046  \n",
            "15                         0.0  20.486601  \n",
            "16                         0.0  20.488156  \n",
            "17                         0.0  20.489712  \n",
            "18                         0.0  20.491267  \n",
            "19                         0.0  20.492822  \n"
          ]
        },
        {
          "output_type": "display_data",
          "data": {
            "text/plain": [
              "<Figure size 900x300 with 1 Axes>"
            ],
            "image/png": "[encoded data removed]"
          },
          "metadata": {}
        }
      ]
    }
  ]
}